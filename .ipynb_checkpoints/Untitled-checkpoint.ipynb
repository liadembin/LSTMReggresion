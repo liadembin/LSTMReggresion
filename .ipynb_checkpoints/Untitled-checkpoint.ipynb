{
 "cells": [
  {
   "cell_type": "code",
   "execution_count": 26,
   "id": "60450dff",
   "metadata": {},
   "outputs": [],
   "source": [
    "import yfinance as yf \n",
    "import pandas as pd\n",
    "from finta import TA as ta "
   ]
  },
  {
   "cell_type": "code",
   "execution_count": 27,
   "id": "6d028665",
   "metadata": {},
   "outputs": [
    {
     "name": "stdout",
     "output_type": "stream",
     "text": [
      "[*********************100%***********************]  1 of 1 completed\n"
     ]
    }
   ],
   "source": [
    "data = yf.download(\"tqqq\",interval='1h',period='730d')"
   ]
  },
  {
   "cell_type": "code",
   "execution_count": 28,
   "id": "5a305003",
   "metadata": {},
   "outputs": [
    {
     "data": {
      "text/plain": [
       "<AxesSubplot:>"
      ]
     },
     "execution_count": 28,
     "metadata": {},
     "output_type": "execute_result"
    },
    {
     "data": {
      "image/png": "[encoded data removed]",
      "text/plain": [
       "<Figure size 432x288 with 1 Axes>"
      ]
     },
     "metadata": {
      "needs_background": "light"
     },
     "output_type": "display_data"
    }
   ],
   "source": [
    "data[['Adj Close']].plot()"
   ]
  },
  {
   "cell_type": "code",
   "execution_count": 29,
   "id": "14d95982",
   "metadata": {},
   "outputs": [],
   "source": [
    "data['pct60'] = data['Adj Close'].pct_change(60)\n",
    "data['pct'] = data['Adj Close'].pct_change()\n"
   ]
  },
  {
   "cell_type": "code",
   "execution_count": 30,
   "id": "3a47b187",
   "metadata": {},
   "outputs": [
    {
     "data": {
      "text/html": [
       "<div>\n",
       "<style scoped>\n",
       "    .dataframe tbody tr th:only-of-type {\n",
       "        vertical-align: middle;\n",
       "    }\n",
       "\n",
       "    .dataframe tbody tr th {\n",
       "        vertical-align: top;\n",
       "    }\n",
       "\n",
       "    .dataframe thead th {\n",
       "        text-align: right;\n",
       "    }\n",
       "</style>\n",
       "<table border=\"1\" class=\"dataframe\">\n",
       "  <thead>\n",
       "    <tr style=\"text-align: right;\">\n",
       "      <th></th>\n",
       "      <th>Open</th>\n",
       "      <th>High</th>\n",
       "      <th>Low</th>\n",
       "      <th>Close</th>\n",
       "      <th>Adj Close</th>\n",
       "      <th>Volume</th>\n",
       "      <th>pct60</th>\n",
       "      <th>pct</th>\n",
       "      <th>pct_shifted</th>\n",
       "      <th>pct_shifted60</th>\n",
       "    </tr>\n",
       "  </thead>\n",
       "  <tbody>\n",
       "    <tr>\n",
       "      <th>2019-08-30 09:30:00-04:00</th>\n",
       "      <td>15.47975</td>\n",
       "      <td>15.483425</td>\n",
       "      <td>15.1925</td>\n",
       "      <td>15.233675</td>\n",
       "      <td>15.233675</td>\n",
       "      <td>4709770</td>\n",
       "      <td>NaN</td>\n",
       "      <td>NaN</td>\n",
       "      <td>NaN</td>\n",
       "      <td>NaN</td>\n",
       "    </tr>\n",
       "    <tr>\n",
       "      <th>2019-08-30 10:30:00-04:00</th>\n",
       "      <td>15.23500</td>\n",
       "      <td>15.305000</td>\n",
       "      <td>14.9050</td>\n",
       "      <td>14.947500</td>\n",
       "      <td>14.947500</td>\n",
       "      <td>3305668</td>\n",
       "      <td>NaN</td>\n",
       "      <td>-0.018786</td>\n",
       "      <td>NaN</td>\n",
       "      <td>NaN</td>\n",
       "    </tr>\n",
       "    <tr>\n",
       "      <th>2019-08-30 11:30:00-04:00</th>\n",
       "      <td>15.04375</td>\n",
       "      <td>15.082500</td>\n",
       "      <td>14.9850</td>\n",
       "      <td>15.062500</td>\n",
       "      <td>15.062500</td>\n",
       "      <td>2907407</td>\n",
       "      <td>NaN</td>\n",
       "      <td>0.007694</td>\n",
       "      <td>-0.018786</td>\n",
       "      <td>NaN</td>\n",
       "    </tr>\n",
       "  </tbody>\n",
       "</table>\n",
       "</div>"
      ],
      "text/plain": [
       "                               Open       High      Low      Close  Adj Close  \\\n",
       "2019-08-30 09:30:00-04:00  15.47975  15.483425  15.1925  15.233675  15.233675   \n",
       "2019-08-30 10:30:00-04:00  15.23500  15.305000  14.9050  14.947500  14.947500   \n",
       "2019-08-30 11:30:00-04:00  15.04375  15.082500  14.9850  15.062500  15.062500   \n",
       "\n",
       "                            Volume  pct60       pct  pct_shifted  \\\n",
       "2019-08-30 09:30:00-04:00  4709770    NaN       NaN          NaN   \n",
       "2019-08-30 10:30:00-04:00  3305668    NaN -0.018786          NaN   \n",
       "2019-08-30 11:30:00-04:00  2907407    NaN  0.007694    -0.018786   \n",
       "\n",
       "                           pct_shifted60  \n",
       "2019-08-30 09:30:00-04:00            NaN  \n",
       "2019-08-30 10:30:00-04:00            NaN  \n",
       "2019-08-30 11:30:00-04:00            NaN  "
      ]
     },
     "execution_count": 30,
     "metadata": {},
     "output_type": "execute_result"
    }
   ],
   "source": [
    "# data['pct'] = data['Adj Close'].pct_change(40)\n",
    "\n",
    "data['pct_shifted'] = data['pct'].shift()\n",
    "data['pct_shifted60'] = data['pct60'].shift()\n",
    "data.head(3)"
   ]
  },
  {
   "cell_type": "code",
   "execution_count": 31,
   "id": "ea74d5b5",
   "metadata": {},
   "outputs": [],
   "source": [
    "# for col in data.columns:\n",
    "#     data[col] = data[col] / 1e5"
   ]
  },
  {
   "cell_type": "code",
   "execution_count": 32,
   "id": "b5618190",
   "metadata": {},
   "outputs": [
    {
     "data": {
      "text/html": [
       "<div>\n",
       "<style scoped>\n",
       "    .dataframe tbody tr th:only-of-type {\n",
       "        vertical-align: middle;\n",
       "    }\n",
       "\n",
       "    .dataframe tbody tr th {\n",
       "        vertical-align: top;\n",
       "    }\n",
       "\n",
       "    .dataframe thead th {\n",
       "        text-align: right;\n",
       "    }\n",
       "</style>\n",
       "<table border=\"1\" class=\"dataframe\">\n",
       "  <thead>\n",
       "    <tr style=\"text-align: right;\">\n",
       "      <th></th>\n",
       "      <th>Open</th>\n",
       "      <th>High</th>\n",
       "      <th>Low</th>\n",
       "      <th>Close</th>\n",
       "      <th>Adj Close</th>\n",
       "      <th>Volume</th>\n",
       "      <th>pct60</th>\n",
       "      <th>pct</th>\n",
       "      <th>pct_shifted</th>\n",
       "      <th>pct_shifted60</th>\n",
       "    </tr>\n",
       "  </thead>\n",
       "  <tbody>\n",
       "    <tr>\n",
       "      <th>2019-08-30 09:30:00-04:00</th>\n",
       "      <td>15.479750</td>\n",
       "      <td>15.483425</td>\n",
       "      <td>15.192500</td>\n",
       "      <td>15.233675</td>\n",
       "      <td>15.233675</td>\n",
       "      <td>4709770</td>\n",
       "      <td>NaN</td>\n",
       "      <td>NaN</td>\n",
       "      <td>NaN</td>\n",
       "      <td>NaN</td>\n",
       "    </tr>\n",
       "    <tr>\n",
       "      <th>2019-08-30 10:30:00-04:00</th>\n",
       "      <td>15.235000</td>\n",
       "      <td>15.305000</td>\n",
       "      <td>14.905000</td>\n",
       "      <td>14.947500</td>\n",
       "      <td>14.947500</td>\n",
       "      <td>3305668</td>\n",
       "      <td>NaN</td>\n",
       "      <td>-0.018786</td>\n",
       "      <td>NaN</td>\n",
       "      <td>NaN</td>\n",
       "    </tr>\n",
       "    <tr>\n",
       "      <th>2019-08-30 11:30:00-04:00</th>\n",
       "      <td>15.043750</td>\n",
       "      <td>15.082500</td>\n",
       "      <td>14.985000</td>\n",
       "      <td>15.062500</td>\n",
       "      <td>15.062500</td>\n",
       "      <td>2907407</td>\n",
       "      <td>NaN</td>\n",
       "      <td>0.007694</td>\n",
       "      <td>-0.018786</td>\n",
       "      <td>NaN</td>\n",
       "    </tr>\n",
       "    <tr>\n",
       "      <th>2019-08-30 12:30:00-04:00</th>\n",
       "      <td>15.065000</td>\n",
       "      <td>15.095000</td>\n",
       "      <td>14.977500</td>\n",
       "      <td>15.018375</td>\n",
       "      <td>15.018375</td>\n",
       "      <td>1021063</td>\n",
       "      <td>NaN</td>\n",
       "      <td>-0.002929</td>\n",
       "      <td>0.007694</td>\n",
       "      <td>NaN</td>\n",
       "    </tr>\n",
       "    <tr>\n",
       "      <th>2019-08-30 13:30:00-04:00</th>\n",
       "      <td>15.020000</td>\n",
       "      <td>15.101250</td>\n",
       "      <td>14.985000</td>\n",
       "      <td>15.085000</td>\n",
       "      <td>15.085000</td>\n",
       "      <td>1031248</td>\n",
       "      <td>NaN</td>\n",
       "      <td>0.004436</td>\n",
       "      <td>-0.002929</td>\n",
       "      <td>NaN</td>\n",
       "    </tr>\n",
       "    <tr>\n",
       "      <th>...</th>\n",
       "      <td>...</td>\n",
       "      <td>...</td>\n",
       "      <td>...</td>\n",
       "      <td>...</td>\n",
       "      <td>...</td>\n",
       "      <td>...</td>\n",
       "      <td>...</td>\n",
       "      <td>...</td>\n",
       "      <td>...</td>\n",
       "      <td>...</td>\n",
       "    </tr>\n",
       "    <tr>\n",
       "      <th>2022-07-25 12:30:00-04:00</th>\n",
       "      <td>29.040001</td>\n",
       "      <td>29.400000</td>\n",
       "      <td>29.028900</td>\n",
       "      <td>29.059999</td>\n",
       "      <td>29.059999</td>\n",
       "      <td>9682809</td>\n",
       "      <td>0.092276</td>\n",
       "      <td>0.000348</td>\n",
       "      <td>-0.000003</td>\n",
       "      <td>0.091695</td>\n",
       "    </tr>\n",
       "    <tr>\n",
       "      <th>2022-07-25 13:30:00-04:00</th>\n",
       "      <td>29.059999</td>\n",
       "      <td>29.120001</td>\n",
       "      <td>28.660000</td>\n",
       "      <td>28.720100</td>\n",
       "      <td>28.720100</td>\n",
       "      <td>9253587</td>\n",
       "      <td>0.071246</td>\n",
       "      <td>-0.011696</td>\n",
       "      <td>0.000348</td>\n",
       "      <td>0.092276</td>\n",
       "    </tr>\n",
       "    <tr>\n",
       "      <th>2022-07-25 14:30:00-04:00</th>\n",
       "      <td>28.730000</td>\n",
       "      <td>28.860001</td>\n",
       "      <td>28.410000</td>\n",
       "      <td>28.500000</td>\n",
       "      <td>28.500000</td>\n",
       "      <td>13198447</td>\n",
       "      <td>0.032422</td>\n",
       "      <td>-0.007664</td>\n",
       "      <td>-0.011696</td>\n",
       "      <td>0.071246</td>\n",
       "    </tr>\n",
       "    <tr>\n",
       "      <th>2022-07-25 15:30:00-04:00</th>\n",
       "      <td>28.500000</td>\n",
       "      <td>29.059999</td>\n",
       "      <td>28.440001</td>\n",
       "      <td>29.030001</td>\n",
       "      <td>29.030001</td>\n",
       "      <td>10650890</td>\n",
       "      <td>0.048196</td>\n",
       "      <td>0.018597</td>\n",
       "      <td>-0.007664</td>\n",
       "      <td>0.032422</td>\n",
       "    </tr>\n",
       "    <tr>\n",
       "      <th>2022-07-25 16:00:00-04:00</th>\n",
       "      <td>29.090000</td>\n",
       "      <td>29.090000</td>\n",
       "      <td>29.090000</td>\n",
       "      <td>29.090000</td>\n",
       "      <td>29.090000</td>\n",
       "      <td>0</td>\n",
       "      <td>0.043775</td>\n",
       "      <td>0.002067</td>\n",
       "      <td>0.018597</td>\n",
       "      <td>0.048196</td>\n",
       "    </tr>\n",
       "  </tbody>\n",
       "</table>\n",
       "<p>5095 rows × 10 columns</p>\n",
       "</div>"
      ],
      "text/plain": [
       "                                Open       High        Low      Close  \\\n",
       "2019-08-30 09:30:00-04:00  15.479750  15.483425  15.192500  15.233675   \n",
       "2019-08-30 10:30:00-04:00  15.235000  15.305000  14.905000  14.947500   \n",
       "2019-08-30 11:30:00-04:00  15.043750  15.082500  14.985000  15.062500   \n",
       "2019-08-30 12:30:00-04:00  15.065000  15.095000  14.977500  15.018375   \n",
       "2019-08-30 13:30:00-04:00  15.020000  15.101250  14.985000  15.085000   \n",
       "...                              ...        ...        ...        ...   \n",
       "2022-07-25 12:30:00-04:00  29.040001  29.400000  29.028900  29.059999   \n",
       "2022-07-25 13:30:00-04:00  29.059999  29.120001  28.660000  28.720100   \n",
       "2022-07-25 14:30:00-04:00  28.730000  28.860001  28.410000  28.500000   \n",
       "2022-07-25 15:30:00-04:00  28.500000  29.059999  28.440001  29.030001   \n",
       "2022-07-25 16:00:00-04:00  29.090000  29.090000  29.090000  29.090000   \n",
       "\n",
       "                           Adj Close    Volume     pct60       pct  \\\n",
       "2019-08-30 09:30:00-04:00  15.233675   4709770       NaN       NaN   \n",
       "2019-08-30 10:30:00-04:00  14.947500   3305668       NaN -0.018786   \n",
       "2019-08-30 11:30:00-04:00  15.062500   2907407       NaN  0.007694   \n",
       "2019-08-30 12:30:00-04:00  15.018375   1021063       NaN -0.002929   \n",
       "2019-08-30 13:30:00-04:00  15.085000   1031248       NaN  0.004436   \n",
       "...                              ...       ...       ...       ...   \n",
       "2022-07-25 12:30:00-04:00  29.059999   9682809  0.092276  0.000348   \n",
       "2022-07-25 13:30:00-04:00  28.720100   9253587  0.071246 -0.011696   \n",
       "2022-07-25 14:30:00-04:00  28.500000  13198447  0.032422 -0.007664   \n",
       "2022-07-25 15:30:00-04:00  29.030001  10650890  0.048196  0.018597   \n",
       "2022-07-25 16:00:00-04:00  29.090000         0  0.043775  0.002067   \n",
       "\n",
       "                           pct_shifted  pct_shifted60  \n",
       "2019-08-30 09:30:00-04:00          NaN            NaN  \n",
       "2019-08-30 10:30:00-04:00          NaN            NaN  \n",
       "2019-08-30 11:30:00-04:00    -0.018786            NaN  \n",
       "2019-08-30 12:30:00-04:00     0.007694            NaN  \n",
       "2019-08-30 13:30:00-04:00    -0.002929            NaN  \n",
       "...                                ...            ...  \n",
       "2022-07-25 12:30:00-04:00    -0.000003       0.091695  \n",
       "2022-07-25 13:30:00-04:00     0.000348       0.092276  \n",
       "2022-07-25 14:30:00-04:00    -0.011696       0.071246  \n",
       "2022-07-25 15:30:00-04:00    -0.007664       0.032422  \n",
       "2022-07-25 16:00:00-04:00     0.018597       0.048196  \n",
       "\n",
       "[5095 rows x 10 columns]"
      ]
     },
     "execution_count": 32,
     "metadata": {},
     "output_type": "execute_result"
    }
   ],
   "source": [
    "data"
   ]
  },
  {
   "cell_type": "code",
   "execution_count": 33,
   "id": "5819ac9e",
   "metadata": {},
   "outputs": [],
   "source": [
    "methods = dir(ta)"
   ]
  },
  {
   "cell_type": "code",
   "execution_count": 34,
   "id": "8c1478f5",
   "metadata": {},
   "outputs": [],
   "source": [
    "methods = dir(ta)\n",
    "methods = list(filter(lambda x:not \"__\" in x,methods))"
   ]
  },
  {
   "cell_type": "code",
   "execution_count": 35,
   "id": "5abc94cb",
   "metadata": {},
   "outputs": [
    {
     "name": "stdout",
     "output_type": "stream",
     "text": [
      "method\n"
     ]
    }
   ],
   "source": [
    "# getattr(ta,methods[0])\n",
    "window_size=40\n",
    "for method in methods:\n",
    "    try:\n",
    "        data = pd.concat([data,getattr(ta,method)(data[['Open','Close','High','Low','Volume']],period=window_size)],axis=1)\n",
    "    except TypeError:\n",
    "        try:\n",
    "            data = pd.concat([data,getattr(ta,method)(data[['Open','Close','High','Low','Volume']])],axis=1)\n",
    "        except TypeError:\n",
    "            print(\"method\")\n",
    "    except NotImplementedError:\n",
    "        continue\n",
    "    except Exception as e :\n",
    "        print(\"weird\")\n",
    "        print(method)"
   ]
  },
  {
   "cell_type": "code",
   "execution_count": 36,
   "id": "51ad6f3a",
   "metadata": {},
   "outputs": [],
   "source": [
    "data = data.drop([\"Open\",'High','Low','Close','Volume'],axis=1)"
   ]
  },
  {
   "cell_type": "code",
   "execution_count": 37,
   "id": "e49149f8",
   "metadata": {},
   "outputs": [
    {
     "data": {
      "text/html": [
       "<div>\n",
       "<style scoped>\n",
       "    .dataframe tbody tr th:only-of-type {\n",
       "        vertical-align: middle;\n",
       "    }\n",
       "\n",
       "    .dataframe tbody tr th {\n",
       "        vertical-align: top;\n",
       "    }\n",
       "\n",
       "    .dataframe thead th {\n",
       "        text-align: right;\n",
       "    }\n",
       "</style>\n",
       "<table border=\"1\" class=\"dataframe\">\n",
       "  <thead>\n",
       "    <tr style=\"text-align: right;\">\n",
       "      <th></th>\n",
       "      <th>Adj Close</th>\n",
       "      <th>pct60</th>\n",
       "      <th>pct</th>\n",
       "      <th>pct_shifted</th>\n",
       "      <th>pct_shifted60</th>\n",
       "      <th>MFV</th>\n",
       "      <th>40 period ADX.</th>\n",
       "      <th>AO</th>\n",
       "      <th>UPPER</th>\n",
       "      <th>LOWER</th>\n",
       "      <th>...</th>\n",
       "      <th>SIGNAL</th>\n",
       "      <th>VZO</th>\n",
       "      <th>40 Williams %R</th>\n",
       "      <th>BearishFractal</th>\n",
       "      <th>BullishFractal</th>\n",
       "      <th>40 period WMA.</th>\n",
       "      <th>WOBV</th>\n",
       "      <th>WT1.</th>\n",
       "      <th>WT2.</th>\n",
       "      <th>40 period ZLEMA</th>\n",
       "    </tr>\n",
       "  </thead>\n",
       "  <tbody>\n",
       "    <tr>\n",
       "      <th>2019-08-30 09:30:00-04:00</th>\n",
       "      <td>15.233675</td>\n",
       "      <td>NaN</td>\n",
       "      <td>NaN</td>\n",
       "      <td>NaN</td>\n",
       "      <td>NaN</td>\n",
       "      <td>-3.376614e+06</td>\n",
       "      <td>NaN</td>\n",
       "      <td>NaN</td>\n",
       "      <td>15.815525</td>\n",
       "      <td>14.651825</td>\n",
       "      <td>...</td>\n",
       "      <td>0.000000</td>\n",
       "      <td>0.000000</td>\n",
       "      <td>NaN</td>\n",
       "      <td>NaN</td>\n",
       "      <td>NaN</td>\n",
       "      <td>NaN</td>\n",
       "      <td>NaN</td>\n",
       "      <td>NaN</td>\n",
       "      <td>NaN</td>\n",
       "      <td>NaN</td>\n",
       "    </tr>\n",
       "    <tr>\n",
       "      <th>2019-08-30 10:30:00-04:00</th>\n",
       "      <td>14.947500</td>\n",
       "      <td>NaN</td>\n",
       "      <td>-0.018786</td>\n",
       "      <td>NaN</td>\n",
       "      <td>NaN</td>\n",
       "      <td>-5.979820e+06</td>\n",
       "      <td>NaN</td>\n",
       "      <td>NaN</td>\n",
       "      <td>15.654660</td>\n",
       "      <td>14.376363</td>\n",
       "      <td>...</td>\n",
       "      <td>-0.003533</td>\n",
       "      <td>-42.458237</td>\n",
       "      <td>NaN</td>\n",
       "      <td>NaN</td>\n",
       "      <td>NaN</td>\n",
       "      <td>NaN</td>\n",
       "      <td>-945998.793381</td>\n",
       "      <td>-121.212121</td>\n",
       "      <td>NaN</td>\n",
       "      <td>NaN</td>\n",
       "    </tr>\n",
       "    <tr>\n",
       "      <th>2019-08-30 11:30:00-04:00</th>\n",
       "      <td>15.062500</td>\n",
       "      <td>NaN</td>\n",
       "      <td>0.007694</td>\n",
       "      <td>-0.018786</td>\n",
       "      <td>NaN</td>\n",
       "      <td>-4.265213e+06</td>\n",
       "      <td>NaN</td>\n",
       "      <td>NaN</td>\n",
       "      <td>15.623487</td>\n",
       "      <td>14.429286</td>\n",
       "      <td>...</td>\n",
       "      <td>-0.004439</td>\n",
       "      <td>-2.298088</td>\n",
       "      <td>NaN</td>\n",
       "      <td>NaN</td>\n",
       "      <td>NaN</td>\n",
       "      <td>NaN</td>\n",
       "      <td>-611647.653833</td>\n",
       "      <td>-96.066494</td>\n",
       "      <td>NaN</td>\n",
       "      <td>NaN</td>\n",
       "    </tr>\n",
       "  </tbody>\n",
       "</table>\n",
       "<p>3 rows × 133 columns</p>\n",
       "</div>"
      ],
      "text/plain": [
       "                           Adj Close  pct60       pct  pct_shifted  \\\n",
       "2019-08-30 09:30:00-04:00  15.233675    NaN       NaN          NaN   \n",
       "2019-08-30 10:30:00-04:00  14.947500    NaN -0.018786          NaN   \n",
       "2019-08-30 11:30:00-04:00  15.062500    NaN  0.007694    -0.018786   \n",
       "\n",
       "                           pct_shifted60           MFV  40 period ADX.  AO  \\\n",
       "2019-08-30 09:30:00-04:00            NaN -3.376614e+06             NaN NaN   \n",
       "2019-08-30 10:30:00-04:00            NaN -5.979820e+06             NaN NaN   \n",
       "2019-08-30 11:30:00-04:00            NaN -4.265213e+06             NaN NaN   \n",
       "\n",
       "                               UPPER      LOWER  ...    SIGNAL        VZO  \\\n",
       "2019-08-30 09:30:00-04:00  15.815525  14.651825  ...  0.000000   0.000000   \n",
       "2019-08-30 10:30:00-04:00  15.654660  14.376363  ... -0.003533 -42.458237   \n",
       "2019-08-30 11:30:00-04:00  15.623487  14.429286  ... -0.004439  -2.298088   \n",
       "\n",
       "                           40 Williams %R  BearishFractal  BullishFractal  \\\n",
       "2019-08-30 09:30:00-04:00             NaN             NaN             NaN   \n",
       "2019-08-30 10:30:00-04:00             NaN             NaN             NaN   \n",
       "2019-08-30 11:30:00-04:00             NaN             NaN             NaN   \n",
       "\n",
       "                           40 period WMA.           WOBV        WT1.  WT2.  \\\n",
       "2019-08-30 09:30:00-04:00             NaN            NaN         NaN   NaN   \n",
       "2019-08-30 10:30:00-04:00             NaN -945998.793381 -121.212121   NaN   \n",
       "2019-08-30 11:30:00-04:00             NaN -611647.653833  -96.066494   NaN   \n",
       "\n",
       "                           40 period ZLEMA  \n",
       "2019-08-30 09:30:00-04:00              NaN  \n",
       "2019-08-30 10:30:00-04:00              NaN  \n",
       "2019-08-30 11:30:00-04:00              NaN  \n",
       "\n",
       "[3 rows x 133 columns]"
      ]
     },
     "execution_count": 37,
     "metadata": {},
     "output_type": "execute_result"
    }
   ],
   "source": [
    "data.head(3)"
   ]
  },
  {
   "cell_type": "code",
   "execution_count": 38,
   "id": "d346c085",
   "metadata": {},
   "outputs": [],
   "source": [
    "data.to_csv(\"data.csv\")"
   ]
  },
  {
   "cell_type": "code",
   "execution_count": 39,
   "id": "18c926d8",
   "metadata": {},
   "outputs": [],
   "source": [
    "from pandas_profiling import ProfileReport\n"
   ]
  },
  {
   "cell_type": "code",
   "execution_count": null,
   "id": "6998d5a2-4055-4cf5-a121-e33dea116865",
   "metadata": {},
   "outputs": [],
   "source": []
  },
  {
   "cell_type": "code",
   "execution_count": 40,
   "id": "ced24cef",
   "metadata": {},
   "outputs": [],
   "source": [
    "data = data.astype(\"float32\")"
   ]
  },
  {
   "cell_type": "code",
   "execution_count": 41,
   "id": "992a49df",
   "metadata": {},
   "outputs": [
    {
     "data": {
      "text/plain": [
       "[dtype('float32'),\n",
       " dtype('float32'),\n",
       " dtype('float32'),\n",
       " dtype('float32'),\n",
       " dtype('float32'),\n",
       " dtype('float32'),\n",
       " dtype('float32'),\n",
       " dtype('float32'),\n",
       " dtype('float32'),\n",
       " dtype('float32'),\n",
       " dtype('float32'),\n",
       " dtype('float32'),\n",
       " dtype('float32'),\n",
       " dtype('float32'),\n",
       " dtype('float32'),\n",
       " dtype('float32'),\n",
       " dtype('float32'),\n",
       " dtype('float32'),\n",
       " dtype('float32'),\n",
       " dtype('float32'),\n",
       " dtype('float32'),\n",
       " dtype('float32'),\n",
       " dtype('float32'),\n",
       " dtype('float32'),\n",
       " dtype('float32'),\n",
       " dtype('float32'),\n",
       " dtype('float32'),\n",
       " dtype('float32'),\n",
       " dtype('float32'),\n",
       " dtype('float32'),\n",
       " dtype('float32'),\n",
       " dtype('float32'),\n",
       " dtype('float32'),\n",
       " dtype('float32'),\n",
       " dtype('float32'),\n",
       " dtype('float32'),\n",
       " dtype('float32'),\n",
       " dtype('float32'),\n",
       " dtype('float32'),\n",
       " dtype('float32'),\n",
       " dtype('float32'),\n",
       " dtype('float32'),\n",
       " dtype('float32'),\n",
       " dtype('float32'),\n",
       " dtype('float32'),\n",
       " dtype('float32'),\n",
       " dtype('float32'),\n",
       " dtype('float32'),\n",
       " dtype('float32'),\n",
       " dtype('float32'),\n",
       " dtype('float32'),\n",
       " dtype('float32'),\n",
       " dtype('float32'),\n",
       " dtype('float32'),\n",
       " dtype('float32'),\n",
       " dtype('float32'),\n",
       " dtype('float32'),\n",
       " dtype('float32'),\n",
       " dtype('float32'),\n",
       " dtype('float32'),\n",
       " dtype('float32'),\n",
       " dtype('float32'),\n",
       " dtype('float32'),\n",
       " dtype('float32'),\n",
       " dtype('float32'),\n",
       " dtype('float32'),\n",
       " dtype('float32'),\n",
       " dtype('float32'),\n",
       " dtype('float32'),\n",
       " dtype('float32'),\n",
       " dtype('float32'),\n",
       " dtype('float32'),\n",
       " dtype('float32'),\n",
       " dtype('float32'),\n",
       " dtype('float32'),\n",
       " dtype('float32'),\n",
       " dtype('float32'),\n",
       " dtype('float32'),\n",
       " dtype('float32'),\n",
       " dtype('float32'),\n",
       " dtype('float32'),\n",
       " dtype('float32'),\n",
       " dtype('float32'),\n",
       " dtype('float32'),\n",
       " dtype('float32'),\n",
       " dtype('float32'),\n",
       " dtype('float32'),\n",
       " dtype('float32'),\n",
       " dtype('float32'),\n",
       " dtype('float32'),\n",
       " dtype('float32'),\n",
       " dtype('float32'),\n",
       " dtype('float32'),\n",
       " dtype('float32'),\n",
       " dtype('float32'),\n",
       " dtype('float32'),\n",
       " dtype('float32'),\n",
       " dtype('float32'),\n",
       " dtype('float32'),\n",
       " dtype('float32'),\n",
       " dtype('float32'),\n",
       " dtype('float32'),\n",
       " dtype('float32'),\n",
       " dtype('float32'),\n",
       " dtype('float32'),\n",
       " dtype('float32'),\n",
       " dtype('float32'),\n",
       " dtype('float32'),\n",
       " dtype('float32'),\n",
       " dtype('float32'),\n",
       " dtype('float32'),\n",
       " dtype('float32'),\n",
       " dtype('float32'),\n",
       " dtype('float32'),\n",
       " dtype('float32'),\n",
       " dtype('float32'),\n",
       " dtype('float32'),\n",
       " dtype('float32'),\n",
       " dtype('float32'),\n",
       " dtype('float32'),\n",
       " dtype('float32'),\n",
       " dtype('float32'),\n",
       " dtype('float32'),\n",
       " dtype('float32'),\n",
       " dtype('float32'),\n",
       " dtype('float32'),\n",
       " dtype('float32'),\n",
       " dtype('float32'),\n",
       " dtype('float32'),\n",
       " dtype('float32'),\n",
       " dtype('float32'),\n",
       " dtype('float32'),\n",
       " dtype('float32')]"
      ]
     },
     "execution_count": 41,
     "metadata": {},
     "output_type": "execute_result"
    }
   ],
   "source": [
    "data.dtypes.to_list()"
   ]
  },
  {
   "cell_type": "code",
   "execution_count": 323,
   "id": "1501d1b9",
   "metadata": {},
   "outputs": [
    {
     "data": {
      "text/plain": [
       "'<table border=\"1\" class=\"dataframe\">\\n  <thead>\\n    <tr style=\"text-align: right;\">\\n      <th></th>\\n      <th>Adj Close</th>\\n      <th>MFV</th>\\n      <th>40 period ADX.</th>\\n      <th>AO</th>\\n      <th>UPPER</th>\\n      <th>LOWER</th>\\n      <th>40 period ATR</th>\\n      <th>Buy.</th>\\n      <th>Sell.</th>\\n      <th>Buy.</th>\\n      <th>Sell.</th>\\n      <th>BB_UPPER</th>\\n      <th>BB_MIDDLE</th>\\n      <th>BB_LOWER</th>\\n      <th>40 period BBWITH</th>\\n      <th>Balance Of Power</th>\\n      <th>40 period CCI</th>\\n      <th>CFI</th>\\n      <th>MFV</th>\\n      <th>Short.</th>\\n      <th>Long.</th>\\n      <th>CMO</th>\\n      <th>Coppock Curve</th>\\n      <th>40 period DEMA</th>\\n      <th>DI+</th>\\n      <th>DI-</th>\\n      <th>LOWER</th>\\n      <th>MIDDLE</th>\\n      <th>UPPER</th>\\n      <th>Bull.</th>\\n      <th>Bear.</th>\\n      <th>40 period Force Index</th>\\n      <th>40 period EMA</th>\\n      <th>40 period EMV.</th>\\n      <th>40 period ER</th>\\n      <th>10 period EVSTC</th>\\n      <th>40 period EVWMA.</th>\\n      <th>MACD</th>\\n      <th>SIGNAL</th>\\n      <th>40 period FISH.</th>\\n      <th>40 period FRAMA.</th>\\n      <th>0</th>\\n      <th>40 period HMA.</th>\\n      <th>TENKAN</th>\\n      <th>KIJUN</th>\\n      <th>senkou_span_a</th>\\n      <th>SENKOU</th>\\n      <th>CHIKOU</th>\\n      <th>IFT_RSI</th>\\n      <th>40 period KAMA.</th>\\n      <th>KC_UPPER</th>\\n      <th>KC_LOWER</th>\\n      <th>KST</th>\\n      <th>signal</th>\\n      <th>MACD</th>\\n      <th>SIGNAL</th>\\n      <th>40 period MFI</th>\\n      <th>Mass Index</th>\\n      <th>BB_UPPER</th>\\n      <th>BB_MIDDLE</th>\\n      <th>BB_LOWER</th>\\n      <th>MOM</th>\\n      <th>MSD</th>\\n      <th>OBV</th>\\n      <th>%b</th>\\n      <th>pivot</th>\\n      <th>s1</th>\\n      <th>s2</th>\\n      <th>s3</th>\\n      <th>s4</th>\\n      <th>r1</th>\\n      <th>r2</th>\\n      <th>r3</th>\\n      <th>r4</th>\\n      <th>pivot</th>\\n      <th>s1</th>\\n      <th>s2</th>\\n      <th>s3</th>\\n      <th>s4</th>\\n      <th>r1</th>\\n      <th>r2</th>\\n      <th>r3</th>\\n      <th>r4</th>\\n      <th>PPO</th>\\n      <th>SIGNAL</th>\\n      <th>HISTO</th>\\n      <th>psar</th>\\n      <th>psarbear</th>\\n      <th>psarbull</th>\\n      <th>40 period PZO</th>\\n      <th>40 period QSTICK.</th>\\n      <th>ROC</th>\\n      <th>40 period RSI</th>\\n      <th>0</th>\\n      <th>40 period SMA</th>\\n      <th>40 period SMM</th>\\n      <th>SMMA</th>\\n      <th>40 period SQZMI</th>\\n      <th>40 period SSMA</th>\\n      <th>10 period STC</th>\\n      <th>40 period STOCH %K</th>\\n      <th>40 period STOCH %D.</th>\\n      <th>14 period stochastic RSI.</th>\\n      <th>40 period TEMA</th>\\n      <th>TP</th>\\n      <th>TR</th>\\n      <th>40 period TRIMA</th>\\n      <th>40 period TRIX</th>\\n      <th>TSI</th>\\n      <th>signal</th>\\n      <th>0</th>\\n      <th>40 period VAMA</th>\\n      <th>VBM</th>\\n      <th>VFI</th>\\n      <th>VIm</th>\\n      <th>VIp</th>\\n      <th>VPT</th>\\n      <th>VWAP.</th>\\n      <th>MACD</th>\\n      <th>SIGNAL</th>\\n      <th>VZO</th>\\n      <th>40 Williams %R</th>\\n      <th>BearishFractal</th>\\n      <th>BullishFractal</th>\\n      <th>40 period WMA.</th>\\n      <th>WOBV</th>\\n      <th>WT1.</th>\\n      <th>WT2.</th>\\n      <th>40 period ZLEMA</th>\\n    </tr>\\n  </thead>\\n  <tbody>\\n    <tr>\\n      <th>2019-08-29 09:30:00-04:00</th>\\n      <td>15.22750</td>\\n      <td>6.951605e+05</td>\\n      <td>NaN</td>\\n      <td>NaN</td>\\n      <td>15.682500</td>\\n      <td>14.772500</td>\\n      <td>NaN</td>\\n      <td>1.000000</td>\\n      <td>1.000000</td>\\n      <td>1.00000</td>\\n      <td>1.000000</td>\\n      <td>NaN</td>\\n      <td>NaN</td>\\n      <td>NaN</td>\\n      <td>NaN</td>\\n      <td>0.549451</td>\\n      <td>NaN</td>\\n      <td>NaN</td>\\n      <td>NaN</td>\\n      <td>NaN</td>\\n      <td>NaN</td>\\n      <td>NaN</td>\\n      <td>NaN</td>\\n      <td>15.227500</td>\\n      <td>NaN</td>\\n      <td>NaN</td>\\n      <td>NaN</td>\\n      <td>NaN</td>\\n      <td>NaN</td>\\n      <td>0.1025</td>\\n      <td>-0.12500</td>\\n      <td>NaN</td>\\n      <td>15.227500</td>\\n      <td>NaN</td>\\n      <td>NaN</td>\\n      <td>NaN</td>\\n      <td>0.0</td>\\n      <td>0.0</td>\\n      <td>0.0</td>\\n      <td>0.0</td>\\n      <td>15.22750</td>\\n      <td>NaN</td>\\n      <td>NaN</td>\\n      <td>NaN</td>\\n      <td>NaN</td>\\n      <td>NaN</td>\\n      <td>NaN</td>\\n      <td>15.2925</td>\\n      <td>NaN</td>\\n      <td>NaN</td>\\n      <td>NaN</td>\\n      <td>NaN</td>\\n      <td>NaN</td>\\n      <td>NaN</td>\\n      <td>0.000000</td>\\n      <td>0.000000</td>\\n      <td>NaN</td>\\n      <td>NaN</td>\\n      <td>NaN</td>\\n      <td>NaN</td>\\n      <td>NaN</td>\\n      <td>NaN</td>\\n      <td>NaN</td>\\n      <td>NaN</td>\\n      <td>NaN</td>\\n      <td>NaN</td>\\n      <td>NaN</td>\\n      <td>NaN</td>\\n      <td>NaN</td>\\n      <td>NaN</td>\\n      <td>NaN</td>\\n      <td>NaN</td>\\n      <td>NaN</td>\\n      <td>NaN</td>\\n      <td>NaN</td>\\n      <td>NaN</td>\\n      <td>NaN</td>\\n      <td>NaN</td>\\n      <td>NaN</td>\\n      <td>NaN</td>\\n      <td>NaN</td>\\n      <td>NaN</td>\\n      <td>NaN</td>\\n      <td>0.000000</td>\\n      <td>0.000000</td>\\n      <td>0.000000</td>\\n      <td>15.22750</td>\\n      <td>NaN</td>\\n      <td>NaN</td>\\n      <td>0.000000</td>\\n      <td>NaN</td>\\n      <td>NaN</td>\\n      <td>NaN</td>\\n      <td>14.504115</td>\\n      <td>NaN</td>\\n      <td>NaN</td>\\n      <td>15.227500</td>\\n      <td>False</td>\\n      <td>15.227500</td>\\n      <td>NaN</td>\\n      <td>NaN</td>\\n      <td>NaN</td>\\n      <td>NaN</td>\\n      <td>15.227500</td>\\n      <td>15.2200</td>\\n      <td>0.227500</td>\\n      <td>NaN</td>\\n      <td>NaN</td>\\n      <td>NaN</td>\\n      <td>NaN</td>\\n      <td>NaN</td>\\n      <td>NaN</td>\\n      <td>NaN</td>\\n      <td>NaN</td>\\n      <td>NaN</td>\\n      <td>NaN</td>\\n      <td>7.723993e+06</td>\\n      <td>15.220000</td>\\n      <td>0.000000</td>\\n      <td>0.00000</td>\\n      <td>0.000000</td>\\n      <td>NaN</td>\\n      <td>NaN</td>\\n      <td>NaN</td>\\n      <td>NaN</td>\\n      <td>NaN</td>\\n      <td>NaN</td>\\n      <td>NaN</td>\\n      <td>NaN</td>\\n    </tr>\\n    <tr>\\n      <th>2019-08-29 10:30:00-04:00</th>\\n      <td>15.23725</td>\\n      <td>3.401353e+06</td>\\n      <td>NaN</td>\\n      <td>NaN</td>\\n      <td>15.743383</td>\\n      <td>14.726483</td>\\n      <td>NaN</td>\\n      <td>0.891352</td>\\n      <td>0.269346</td>\\n      <td>0.94296</td>\\n      <td>0.616407</td>\\n      <td>NaN</td>\\n      <td>NaN</td>\\n      <td>NaN</td>\\n      <td>NaN</td>\\n      <td>0.022022</td>\\n      <td>-66.666667</td>\\n      <td>NaN</td>\\n      <td>NaN</td>\\n      <td>NaN</td>\\n      <td>NaN</td>\\n      <td>100.0</td>\\n      <td>NaN</td>\\n      <td>15.234933</td>\\n      <td>NaN</td>\\n      <td>NaN</td>\\n      <td>NaN</td>\\n      <td>NaN</td>\\n      <td>NaN</td>\\n      <td>0.0315</td>\\n      <td>-0.29775</td>\\n      <td>31562.88121</td>\\n      <td>15.232497</td>\\n      <td>NaN</td>\\n      <td>NaN</td>\\n      <td>NaN</td>\\n      <td>0.0</td>\\n      <td>0.0</td>\\n      <td>0.0</td>\\n      <td>0.0</td>\\n      <td>15.23725</td>\\n      <td>NaN</td>\\n      <td>NaN</td>\\n      <td>NaN</td>\\n      <td>NaN</td>\\n      <td>NaN</td>\\n      <td>NaN</td>\\n      <td>15.3125</td>\\n      <td>NaN</td>\\n      <td>NaN</td>\\n      <td>NaN</td>\\n      <td>NaN</td>\\n      <td>NaN</td>\\n      <td>NaN</td>\\n      <td>0.000219</td>\\n      <td>0.000122</td>\\n      <td>NaN</td>\\n      <td>NaN</td>\\n      <td>NaN</td>\\n      <td>NaN</td>\\n      <td>NaN</td>\\n      <td>NaN</td>\\n      <td>NaN</td>\\n      <td>3237097.0</td>\\n      <td>NaN</td>\\n      <td>15.22</td>\\n      <td>15.11</td>\\n      <td>14.9925</td>\\n      <td>14.8825</td>\\n      <td>14.7725</td>\\n      <td>15.3375</td>\\n      <td>15.4475</td>\\n      <td>15.565</td>\\n      <td>15.6825</td>\\n      <td>15.22</td>\\n      <td>15.133095</td>\\n      <td>15.079405</td>\\n      <td>14.9925</td>\\n      <td>14.905595</td>\\n      <td>15.306905</td>\\n      <td>15.360595</td>\\n      <td>15.4475</td>\\n      <td>15.534405</td>\\n      <td>0.001436</td>\\n      <td>0.000798</td>\\n      <td>0.000638</td>\\n      <td>15.23725</td>\\n      <td>NaN</td>\\n      <td>NaN</td>\\n      <td>51.265993</td>\\n      <td>NaN</td>\\n      <td>NaN</td>\\n      <td>100.0</td>\\n      <td>14.520633</td>\\n      <td>NaN</td>\\n      <td>NaN</td>\\n      <td>15.232437</td>\\n      <td>False</td>\\n      <td>15.232437</td>\\n      <td>NaN</td>\\n      <td>NaN</td>\\n      <td>NaN</td>\\n      <td>NaN</td>\\n      <td>15.236121</td>\\n      <td>15.1455</td>\\n      <td>0.329249</td>\\n      <td>NaN</td>\\n      <td>0.008619</td>\\n      <td>NaN</td>\\n      <td>NaN</td>\\n      <td>NaN</td>\\n      <td>NaN</td>\\n      <td>NaN</td>\\n      <td>NaN</td>\\n      <td>NaN</td>\\n      <td>NaN</td>\\n      <td>7.866568e+06</td>\\n      <td>15.196508</td>\\n      <td>0.000198</td>\\n      <td>0.00011</td>\\n      <td>32.621966</td>\\n      <td>NaN</td>\\n      <td>NaN</td>\\n      <td>NaN</td>\\n      <td>NaN</td>\\n      <td>31562.88121</td>\\n      <td>-121.212121</td>\\n      <td>NaN</td>\\n      <td>NaN</td>\\n    </tr>\\n  </tbody>\\n</table>'"
      ]
     },
     "execution_count": 323,
     "metadata": {},
     "output_type": "execute_result"
    }
   ],
   "source": [
    "data.head(2).to_html()"
   ]
  },
  {
   "cell_type": "code",
   "execution_count": 15,
   "id": "364cb866",
   "metadata": {},
   "outputs": [],
   "source": [
    "profile = ProfileReport(data)"
   ]
  },
  {
   "cell_type": "code",
   "execution_count": 16,
   "id": "ffc7ce9c",
   "metadata": {},
   "outputs": [
    {
     "name": "stderr",
     "output_type": "stream",
     "text": [
      "Summarize dataset:  96%|███████████████████████████▊ | 135/141 [00:25<00:02,  2.47it/s, Calculate phi_k correlation]C:\\Python310\\lib\\site-packages\\pandas_profiling\\model\\correlations.py:55: UserWarning: There was an attempt to calculate the phi_k correlation, but this failed.\n",
      "To hide this warning, disable the calculation\n",
      "(using `df.profile_report(correlations={\"phi_k\": {\"calculate\": False}})`\n",
      "If this is problematic for your use case, please report this as an issue:\n",
      "https://github.com/pandas-profiling/pandas-profiling/issues\n",
      "(include the error message: 'The truth value of a Series is ambiguous. Use a.empty, a.bool(), a.item(), a.any() or a.all().')\n",
      "  warnings.warn(\n",
      "Summarize dataset:   1%|▍                               | 137/10342 [00:25<31:58,  5.32it/s, scatter MFV, Adj Close]\n"
     ]
    },
    {
     "ename": "TypeError",
     "evalue": "'<' not supported between instances of 'str' and 'int'",
     "output_type": "error",
     "traceback": [
      "\u001b[1;31m---------------------------------------------------------------------------\u001b[0m",
      "\u001b[1;31mTypeError\u001b[0m                                 Traceback (most recent call last)",
      "Input \u001b[1;32mIn [16]\u001b[0m, in \u001b[0;36m<cell line: 1>\u001b[1;34m()\u001b[0m\n\u001b[1;32m----> 1\u001b[0m \u001b[43mprofile\u001b[49m\u001b[38;5;241;43m.\u001b[39;49m\u001b[43mto_file\u001b[49m\u001b[43m(\u001b[49m\u001b[38;5;124;43m\"\u001b[39;49m\u001b[38;5;124;43mreport.html\u001b[39;49m\u001b[38;5;124;43m\"\u001b[39;49m\u001b[43m)\u001b[49m\n",
      "File \u001b[1;32mC:\\Python310\\lib\\site-packages\\pandas_profiling\\profile_report.py:257\u001b[0m, in \u001b[0;36mProfileReport.to_file\u001b[1;34m(self, output_file, silent)\u001b[0m\n\u001b[0;32m    254\u001b[0m         \u001b[38;5;28mself\u001b[39m\u001b[38;5;241m.\u001b[39mconfig\u001b[38;5;241m.\u001b[39mhtml\u001b[38;5;241m.\u001b[39massets_prefix \u001b[38;5;241m=\u001b[39m \u001b[38;5;28mstr\u001b[39m(output_file\u001b[38;5;241m.\u001b[39mstem) \u001b[38;5;241m+\u001b[39m \u001b[38;5;124m\"\u001b[39m\u001b[38;5;124m_assets\u001b[39m\u001b[38;5;124m\"\u001b[39m\n\u001b[0;32m    255\u001b[0m     create_html_assets(\u001b[38;5;28mself\u001b[39m\u001b[38;5;241m.\u001b[39mconfig, output_file)\n\u001b[1;32m--> 257\u001b[0m data \u001b[38;5;241m=\u001b[39m \u001b[38;5;28;43mself\u001b[39;49m\u001b[38;5;241;43m.\u001b[39;49m\u001b[43mto_html\u001b[49m\u001b[43m(\u001b[49m\u001b[43m)\u001b[49m\n\u001b[0;32m    259\u001b[0m \u001b[38;5;28;01mif\u001b[39;00m output_file\u001b[38;5;241m.\u001b[39msuffix \u001b[38;5;241m!=\u001b[39m \u001b[38;5;124m\"\u001b[39m\u001b[38;5;124m.html\u001b[39m\u001b[38;5;124m\"\u001b[39m:\n\u001b[0;32m    260\u001b[0m     suffix \u001b[38;5;241m=\u001b[39m output_file\u001b[38;5;241m.\u001b[39msuffix\n",
      "File \u001b[1;32mC:\\Python310\\lib\\site-packages\\pandas_profiling\\profile_report.py:368\u001b[0m, in \u001b[0;36mProfileReport.to_html\u001b[1;34m(self)\u001b[0m\n\u001b[0;32m    360\u001b[0m \u001b[38;5;28;01mdef\u001b[39;00m \u001b[38;5;21mto_html\u001b[39m(\u001b[38;5;28mself\u001b[39m) \u001b[38;5;241m-\u001b[39m\u001b[38;5;241m>\u001b[39m \u001b[38;5;28mstr\u001b[39m:\n\u001b[0;32m    361\u001b[0m     \u001b[38;5;124;03m\"\"\"Generate and return complete template as lengthy string\u001b[39;00m\n\u001b[0;32m    362\u001b[0m \u001b[38;5;124;03m        for using with frameworks.\u001b[39;00m\n\u001b[0;32m    363\u001b[0m \n\u001b[1;32m   (...)\u001b[0m\n\u001b[0;32m    366\u001b[0m \n\u001b[0;32m    367\u001b[0m \u001b[38;5;124;03m    \"\"\"\u001b[39;00m\n\u001b[1;32m--> 368\u001b[0m     \u001b[38;5;28;01mreturn\u001b[39;00m \u001b[38;5;28;43mself\u001b[39;49m\u001b[38;5;241;43m.\u001b[39;49m\u001b[43mhtml\u001b[49m\n",
      "File \u001b[1;32mC:\\Python310\\lib\\site-packages\\pandas_profiling\\profile_report.py:185\u001b[0m, in \u001b[0;36mProfileReport.html\u001b[1;34m(self)\u001b[0m\n\u001b[0;32m    182\u001b[0m \u001b[38;5;129m@property\u001b[39m\n\u001b[0;32m    183\u001b[0m \u001b[38;5;28;01mdef\u001b[39;00m \u001b[38;5;21mhtml\u001b[39m(\u001b[38;5;28mself\u001b[39m) \u001b[38;5;241m-\u001b[39m\u001b[38;5;241m>\u001b[39m \u001b[38;5;28mstr\u001b[39m:\n\u001b[0;32m    184\u001b[0m     \u001b[38;5;28;01mif\u001b[39;00m \u001b[38;5;28mself\u001b[39m\u001b[38;5;241m.\u001b[39m_html \u001b[38;5;129;01mis\u001b[39;00m \u001b[38;5;28;01mNone\u001b[39;00m:\n\u001b[1;32m--> 185\u001b[0m         \u001b[38;5;28mself\u001b[39m\u001b[38;5;241m.\u001b[39m_html \u001b[38;5;241m=\u001b[39m \u001b[38;5;28;43mself\u001b[39;49m\u001b[38;5;241;43m.\u001b[39;49m\u001b[43m_render_html\u001b[49m\u001b[43m(\u001b[49m\u001b[43m)\u001b[49m\n\u001b[0;32m    186\u001b[0m     \u001b[38;5;28;01mreturn\u001b[39;00m \u001b[38;5;28mself\u001b[39m\u001b[38;5;241m.\u001b[39m_html\n",
      "File \u001b[1;32mC:\\Python310\\lib\\site-packages\\pandas_profiling\\profile_report.py:287\u001b[0m, in \u001b[0;36mProfileReport._render_html\u001b[1;34m(self)\u001b[0m\n\u001b[0;32m    284\u001b[0m \u001b[38;5;28;01mdef\u001b[39;00m \u001b[38;5;21m_render_html\u001b[39m(\u001b[38;5;28mself\u001b[39m) \u001b[38;5;241m-\u001b[39m\u001b[38;5;241m>\u001b[39m \u001b[38;5;28mstr\u001b[39m:\n\u001b[0;32m    285\u001b[0m     \u001b[38;5;28;01mfrom\u001b[39;00m \u001b[38;5;21;01mpandas_profiling\u001b[39;00m\u001b[38;5;21;01m.\u001b[39;00m\u001b[38;5;21;01mreport\u001b[39;00m\u001b[38;5;21;01m.\u001b[39;00m\u001b[38;5;21;01mpresentation\u001b[39;00m\u001b[38;5;21;01m.\u001b[39;00m\u001b[38;5;21;01mflavours\u001b[39;00m \u001b[38;5;28;01mimport\u001b[39;00m HTMLReport\n\u001b[1;32m--> 287\u001b[0m     report \u001b[38;5;241m=\u001b[39m \u001b[38;5;28;43mself\u001b[39;49m\u001b[38;5;241;43m.\u001b[39;49m\u001b[43mreport\u001b[49m\n\u001b[0;32m    289\u001b[0m     \u001b[38;5;28;01mwith\u001b[39;00m tqdm(\n\u001b[0;32m    290\u001b[0m         total\u001b[38;5;241m=\u001b[39m\u001b[38;5;241m1\u001b[39m, desc\u001b[38;5;241m=\u001b[39m\u001b[38;5;124m\"\u001b[39m\u001b[38;5;124mRender HTML\u001b[39m\u001b[38;5;124m\"\u001b[39m, disable\u001b[38;5;241m=\u001b[39m\u001b[38;5;129;01mnot\u001b[39;00m \u001b[38;5;28mself\u001b[39m\u001b[38;5;241m.\u001b[39mconfig\u001b[38;5;241m.\u001b[39mprogress_bar\n\u001b[0;32m    291\u001b[0m     ) \u001b[38;5;28;01mas\u001b[39;00m pbar:\n\u001b[0;32m    292\u001b[0m         html \u001b[38;5;241m=\u001b[39m HTMLReport(copy\u001b[38;5;241m.\u001b[39mdeepcopy(report))\u001b[38;5;241m.\u001b[39mrender(\n\u001b[0;32m    293\u001b[0m             nav\u001b[38;5;241m=\u001b[39m\u001b[38;5;28mself\u001b[39m\u001b[38;5;241m.\u001b[39mconfig\u001b[38;5;241m.\u001b[39mhtml\u001b[38;5;241m.\u001b[39mnavbar_show,\n\u001b[0;32m    294\u001b[0m             offline\u001b[38;5;241m=\u001b[39m\u001b[38;5;28mself\u001b[39m\u001b[38;5;241m.\u001b[39mconfig\u001b[38;5;241m.\u001b[39mhtml\u001b[38;5;241m.\u001b[39muse_local_assets,\n\u001b[1;32m   (...)\u001b[0m\n\u001b[0;32m    302\u001b[0m             version\u001b[38;5;241m=\u001b[39m\u001b[38;5;28mself\u001b[39m\u001b[38;5;241m.\u001b[39mdescription_set[\u001b[38;5;124m\"\u001b[39m\u001b[38;5;124mpackage\u001b[39m\u001b[38;5;124m\"\u001b[39m][\u001b[38;5;124m\"\u001b[39m\u001b[38;5;124mpandas_profiling_version\u001b[39m\u001b[38;5;124m\"\u001b[39m],\n\u001b[0;32m    303\u001b[0m         )\n",
      "File \u001b[1;32mC:\\Python310\\lib\\site-packages\\pandas_profiling\\profile_report.py:179\u001b[0m, in \u001b[0;36mProfileReport.report\u001b[1;34m(self)\u001b[0m\n\u001b[0;32m    176\u001b[0m \u001b[38;5;129m@property\u001b[39m\n\u001b[0;32m    177\u001b[0m \u001b[38;5;28;01mdef\u001b[39;00m \u001b[38;5;21mreport\u001b[39m(\u001b[38;5;28mself\u001b[39m) \u001b[38;5;241m-\u001b[39m\u001b[38;5;241m>\u001b[39m Root:\n\u001b[0;32m    178\u001b[0m     \u001b[38;5;28;01mif\u001b[39;00m \u001b[38;5;28mself\u001b[39m\u001b[38;5;241m.\u001b[39m_report \u001b[38;5;129;01mis\u001b[39;00m \u001b[38;5;28;01mNone\u001b[39;00m:\n\u001b[1;32m--> 179\u001b[0m         \u001b[38;5;28mself\u001b[39m\u001b[38;5;241m.\u001b[39m_report \u001b[38;5;241m=\u001b[39m get_report_structure(\u001b[38;5;28mself\u001b[39m\u001b[38;5;241m.\u001b[39mconfig, \u001b[38;5;28;43mself\u001b[39;49m\u001b[38;5;241;43m.\u001b[39;49m\u001b[43mdescription_set\u001b[49m)\n\u001b[0;32m    180\u001b[0m     \u001b[38;5;28;01mreturn\u001b[39;00m \u001b[38;5;28mself\u001b[39m\u001b[38;5;241m.\u001b[39m_report\n",
      "File \u001b[1;32mC:\\Python310\\lib\\site-packages\\pandas_profiling\\profile_report.py:161\u001b[0m, in \u001b[0;36mProfileReport.description_set\u001b[1;34m(self)\u001b[0m\n\u001b[0;32m    158\u001b[0m \u001b[38;5;129m@property\u001b[39m\n\u001b[0;32m    159\u001b[0m \u001b[38;5;28;01mdef\u001b[39;00m \u001b[38;5;21mdescription_set\u001b[39m(\u001b[38;5;28mself\u001b[39m) \u001b[38;5;241m-\u001b[39m\u001b[38;5;241m>\u001b[39m Dict[\u001b[38;5;28mstr\u001b[39m, Any]:\n\u001b[0;32m    160\u001b[0m     \u001b[38;5;28;01mif\u001b[39;00m \u001b[38;5;28mself\u001b[39m\u001b[38;5;241m.\u001b[39m_description_set \u001b[38;5;129;01mis\u001b[39;00m \u001b[38;5;28;01mNone\u001b[39;00m:\n\u001b[1;32m--> 161\u001b[0m         \u001b[38;5;28mself\u001b[39m\u001b[38;5;241m.\u001b[39m_description_set \u001b[38;5;241m=\u001b[39m \u001b[43mdescribe_df\u001b[49m\u001b[43m(\u001b[49m\n\u001b[0;32m    162\u001b[0m \u001b[43m            \u001b[49m\u001b[38;5;28;43mself\u001b[39;49m\u001b[38;5;241;43m.\u001b[39;49m\u001b[43mconfig\u001b[49m\u001b[43m,\u001b[49m\n\u001b[0;32m    163\u001b[0m \u001b[43m            \u001b[49m\u001b[38;5;28;43mself\u001b[39;49m\u001b[38;5;241;43m.\u001b[39;49m\u001b[43mdf\u001b[49m\u001b[43m,\u001b[49m\n\u001b[0;32m    164\u001b[0m \u001b[43m            \u001b[49m\u001b[38;5;28;43mself\u001b[39;49m\u001b[38;5;241;43m.\u001b[39;49m\u001b[43msummarizer\u001b[49m\u001b[43m,\u001b[49m\n\u001b[0;32m    165\u001b[0m \u001b[43m            \u001b[49m\u001b[38;5;28;43mself\u001b[39;49m\u001b[38;5;241;43m.\u001b[39;49m\u001b[43mtypeset\u001b[49m\u001b[43m,\u001b[49m\n\u001b[0;32m    166\u001b[0m \u001b[43m            \u001b[49m\u001b[38;5;28;43mself\u001b[39;49m\u001b[38;5;241;43m.\u001b[39;49m\u001b[43m_sample\u001b[49m\u001b[43m,\u001b[49m\n\u001b[0;32m    167\u001b[0m \u001b[43m        \u001b[49m\u001b[43m)\u001b[49m\n\u001b[0;32m    168\u001b[0m     \u001b[38;5;28;01mreturn\u001b[39;00m \u001b[38;5;28mself\u001b[39m\u001b[38;5;241m.\u001b[39m_description_set\n",
      "File \u001b[1;32mC:\\Python310\\lib\\site-packages\\pandas_profiling\\model\\describe.py:115\u001b[0m, in \u001b[0;36mdescribe\u001b[1;34m(config, df, summarizer, typeset, sample)\u001b[0m\n\u001b[0;32m    111\u001b[0m scatter_matrix: Dict[Any, Dict[Any, Any]] \u001b[38;5;241m=\u001b[39m {\n\u001b[0;32m    112\u001b[0m     x: {y: \u001b[38;5;28;01mNone\u001b[39;00m} \u001b[38;5;28;01mfor\u001b[39;00m x, y \u001b[38;5;129;01min\u001b[39;00m scatter_tasks\n\u001b[0;32m    113\u001b[0m }\n\u001b[0;32m    114\u001b[0m \u001b[38;5;28;01mfor\u001b[39;00m x, y \u001b[38;5;129;01min\u001b[39;00m scatter_tasks:\n\u001b[1;32m--> 115\u001b[0m     scatter_matrix[x][y] \u001b[38;5;241m=\u001b[39m \u001b[43mprogress\u001b[49m\u001b[43m(\u001b[49m\n\u001b[0;32m    116\u001b[0m \u001b[43m        \u001b[49m\u001b[43mget_scatter_plot\u001b[49m\u001b[43m,\u001b[49m\u001b[43m \u001b[49m\u001b[43mpbar\u001b[49m\u001b[43m,\u001b[49m\u001b[43m \u001b[49m\u001b[38;5;124;43mf\u001b[39;49m\u001b[38;5;124;43m\"\u001b[39;49m\u001b[38;5;124;43mscatter \u001b[39;49m\u001b[38;5;132;43;01m{\u001b[39;49;00m\u001b[43mx\u001b[49m\u001b[38;5;132;43;01m}\u001b[39;49;00m\u001b[38;5;124;43m, \u001b[39;49m\u001b[38;5;132;43;01m{\u001b[39;49;00m\u001b[43my\u001b[49m\u001b[38;5;132;43;01m}\u001b[39;49;00m\u001b[38;5;124;43m\"\u001b[39;49m\n\u001b[0;32m    117\u001b[0m \u001b[43m    \u001b[49m\u001b[43m)\u001b[49m\u001b[43m(\u001b[49m\u001b[43mconfig\u001b[49m\u001b[43m,\u001b[49m\u001b[43m \u001b[49m\u001b[43mdf\u001b[49m\u001b[43m,\u001b[49m\u001b[43m \u001b[49m\u001b[43mx\u001b[49m\u001b[43m,\u001b[49m\u001b[43m \u001b[49m\u001b[43my\u001b[49m\u001b[43m,\u001b[49m\u001b[43m \u001b[49m\u001b[43minterval_columns\u001b[49m\u001b[43m)\u001b[49m\n\u001b[0;32m    119\u001b[0m \u001b[38;5;66;03m# Table statistics\u001b[39;00m\n\u001b[0;32m    120\u001b[0m table_stats \u001b[38;5;241m=\u001b[39m progress(get_table_stats, pbar, \u001b[38;5;124m\"\u001b[39m\u001b[38;5;124mGet dataframe statistics\u001b[39m\u001b[38;5;124m\"\u001b[39m)(\n\u001b[0;32m    121\u001b[0m     config, df, series_description\n\u001b[0;32m    122\u001b[0m )\n",
      "File \u001b[1;32mC:\\Python310\\lib\\site-packages\\pandas_profiling\\utils\\progress_bar.py:11\u001b[0m, in \u001b[0;36mprogress.<locals>.inner\u001b[1;34m(*args, **kwargs)\u001b[0m\n\u001b[0;32m      8\u001b[0m \u001b[38;5;129m@wraps\u001b[39m(fn)\n\u001b[0;32m      9\u001b[0m \u001b[38;5;28;01mdef\u001b[39;00m \u001b[38;5;21minner\u001b[39m(\u001b[38;5;241m*\u001b[39margs, \u001b[38;5;241m*\u001b[39m\u001b[38;5;241m*\u001b[39mkwargs) \u001b[38;5;241m-\u001b[39m\u001b[38;5;241m>\u001b[39m Any:\n\u001b[0;32m     10\u001b[0m     bar\u001b[38;5;241m.\u001b[39mset_postfix_str(message)\n\u001b[1;32m---> 11\u001b[0m     ret \u001b[38;5;241m=\u001b[39m fn(\u001b[38;5;241m*\u001b[39margs, \u001b[38;5;241m*\u001b[39m\u001b[38;5;241m*\u001b[39mkwargs)\n\u001b[0;32m     12\u001b[0m     bar\u001b[38;5;241m.\u001b[39mupdate()\n\u001b[0;32m     13\u001b[0m     \u001b[38;5;28;01mreturn\u001b[39;00m ret\n",
      "File \u001b[1;32mC:\\Python310\\lib\\site-packages\\pandas_profiling\\model\\pairwise.py:31\u001b[0m, in \u001b[0;36mget_scatter_plot\u001b[1;34m(config, df, x, y, continuous_variables)\u001b[0m\n\u001b[0;32m     29\u001b[0m     \u001b[38;5;28;01melse\u001b[39;00m:\n\u001b[0;32m     30\u001b[0m         df_temp \u001b[38;5;241m=\u001b[39m df[[x, y]]\u001b[38;5;241m.\u001b[39mdropna()\n\u001b[1;32m---> 31\u001b[0m     \u001b[38;5;28;01mreturn\u001b[39;00m \u001b[43mscatter_pairwise\u001b[49m\u001b[43m(\u001b[49m\u001b[43mconfig\u001b[49m\u001b[43m,\u001b[49m\u001b[43m \u001b[49m\u001b[43mdf_temp\u001b[49m\u001b[43m[\u001b[49m\u001b[43mx\u001b[49m\u001b[43m]\u001b[49m\u001b[43m,\u001b[49m\u001b[43m \u001b[49m\u001b[43mdf_temp\u001b[49m\u001b[43m[\u001b[49m\u001b[43my\u001b[49m\u001b[43m]\u001b[49m\u001b[43m,\u001b[49m\u001b[43m \u001b[49m\u001b[43mx\u001b[49m\u001b[43m,\u001b[49m\u001b[43m \u001b[49m\u001b[43my\u001b[49m\u001b[43m)\u001b[49m\n\u001b[0;32m     32\u001b[0m \u001b[38;5;28;01melse\u001b[39;00m:\n\u001b[0;32m     33\u001b[0m     \u001b[38;5;28;01mreturn\u001b[39;00m \u001b[38;5;124m\"\u001b[39m\u001b[38;5;124m\"\u001b[39m\n",
      "File \u001b[1;32mC:\\Python310\\lib\\contextlib.py:79\u001b[0m, in \u001b[0;36mContextDecorator.__call__.<locals>.inner\u001b[1;34m(*args, **kwds)\u001b[0m\n\u001b[0;32m     76\u001b[0m \u001b[38;5;129m@wraps\u001b[39m(func)\n\u001b[0;32m     77\u001b[0m \u001b[38;5;28;01mdef\u001b[39;00m \u001b[38;5;21minner\u001b[39m(\u001b[38;5;241m*\u001b[39margs, \u001b[38;5;241m*\u001b[39m\u001b[38;5;241m*\u001b[39mkwds):\n\u001b[0;32m     78\u001b[0m     \u001b[38;5;28;01mwith\u001b[39;00m \u001b[38;5;28mself\u001b[39m\u001b[38;5;241m.\u001b[39m_recreate_cm():\n\u001b[1;32m---> 79\u001b[0m         \u001b[38;5;28;01mreturn\u001b[39;00m func(\u001b[38;5;241m*\u001b[39margs, \u001b[38;5;241m*\u001b[39m\u001b[38;5;241m*\u001b[39mkwds)\n",
      "File \u001b[1;32mC:\\Python310\\lib\\site-packages\\pandas_profiling\\visualisation\\plot.py:293\u001b[0m, in \u001b[0;36mscatter_pairwise\u001b[1;34m(config, series1, series2, x_label, y_label)\u001b[0m\n\u001b[0;32m    289\u001b[0m plt\u001b[38;5;241m.\u001b[39mylabel(y_label)\n\u001b[0;32m    291\u001b[0m color \u001b[38;5;241m=\u001b[39m config\u001b[38;5;241m.\u001b[39mhtml\u001b[38;5;241m.\u001b[39mstyle\u001b[38;5;241m.\u001b[39mprimary_color\n\u001b[1;32m--> 293\u001b[0m indices \u001b[38;5;241m=\u001b[39m \u001b[43m(\u001b[49m\u001b[43mseries1\u001b[49m\u001b[38;5;241;43m.\u001b[39;49m\u001b[43mnotna\u001b[49m\u001b[43m(\u001b[49m\u001b[43m)\u001b[49m\u001b[43m)\u001b[49m\u001b[43m \u001b[49m\u001b[38;5;241;43m&\u001b[39;49m\u001b[43m \u001b[49m\u001b[43m(\u001b[49m\u001b[43mseries2\u001b[49m\u001b[38;5;241;43m.\u001b[39;49m\u001b[43mnotna\u001b[49m\u001b[43m(\u001b[49m\u001b[43m)\u001b[49m\u001b[43m)\u001b[49m\n\u001b[0;32m    294\u001b[0m \u001b[38;5;28;01mif\u001b[39;00m \u001b[38;5;28mlen\u001b[39m(series1) \u001b[38;5;241m>\u001b[39m config\u001b[38;5;241m.\u001b[39mplot\u001b[38;5;241m.\u001b[39mscatter_threshold:\n\u001b[0;32m    295\u001b[0m     cmap \u001b[38;5;241m=\u001b[39m sns\u001b[38;5;241m.\u001b[39mlight_palette(color, as_cmap\u001b[38;5;241m=\u001b[39m\u001b[38;5;28;01mTrue\u001b[39;00m)\n",
      "File \u001b[1;32mC:\\Python310\\lib\\site-packages\\pandas\\core\\ops\\common.py:70\u001b[0m, in \u001b[0;36m_unpack_zerodim_and_defer.<locals>.new_method\u001b[1;34m(self, other)\u001b[0m\n\u001b[0;32m     66\u001b[0m             \u001b[38;5;28;01mreturn\u001b[39;00m \u001b[38;5;28mNotImplemented\u001b[39m\n\u001b[0;32m     68\u001b[0m other \u001b[38;5;241m=\u001b[39m item_from_zerodim(other)\n\u001b[1;32m---> 70\u001b[0m \u001b[38;5;28;01mreturn\u001b[39;00m \u001b[43mmethod\u001b[49m\u001b[43m(\u001b[49m\u001b[38;5;28;43mself\u001b[39;49m\u001b[43m,\u001b[49m\u001b[43m \u001b[49m\u001b[43mother\u001b[49m\u001b[43m)\u001b[49m\n",
      "File \u001b[1;32mC:\\Python310\\lib\\site-packages\\pandas\\core\\arraylike.py:70\u001b[0m, in \u001b[0;36mOpsMixin.__and__\u001b[1;34m(self, other)\u001b[0m\n\u001b[0;32m     68\u001b[0m \u001b[38;5;129m@unpack_zerodim_and_defer\u001b[39m(\u001b[38;5;124m\"\u001b[39m\u001b[38;5;124m__and__\u001b[39m\u001b[38;5;124m\"\u001b[39m)\n\u001b[0;32m     69\u001b[0m \u001b[38;5;28;01mdef\u001b[39;00m \u001b[38;5;21m__and__\u001b[39m(\u001b[38;5;28mself\u001b[39m, other):\n\u001b[1;32m---> 70\u001b[0m     \u001b[38;5;28;01mreturn\u001b[39;00m \u001b[38;5;28;43mself\u001b[39;49m\u001b[38;5;241;43m.\u001b[39;49m\u001b[43m_logical_method\u001b[49m\u001b[43m(\u001b[49m\u001b[43mother\u001b[49m\u001b[43m,\u001b[49m\u001b[43m \u001b[49m\u001b[43moperator\u001b[49m\u001b[38;5;241;43m.\u001b[39;49m\u001b[43mand_\u001b[49m\u001b[43m)\u001b[49m\n",
      "File \u001b[1;32mC:\\Python310\\lib\\site-packages\\pandas\\core\\frame.py:6944\u001b[0m, in \u001b[0;36mDataFrame._arith_method\u001b[1;34m(self, other, op)\u001b[0m\n\u001b[0;32m   6941\u001b[0m axis \u001b[38;5;241m=\u001b[39m \u001b[38;5;241m1\u001b[39m  \u001b[38;5;66;03m# only relevant for Series other case\u001b[39;00m\n\u001b[0;32m   6942\u001b[0m other \u001b[38;5;241m=\u001b[39m ops\u001b[38;5;241m.\u001b[39mmaybe_prepare_scalar_for_op(other, (\u001b[38;5;28mself\u001b[39m\u001b[38;5;241m.\u001b[39mshape[axis],))\n\u001b[1;32m-> 6944\u001b[0m \u001b[38;5;28mself\u001b[39m, other \u001b[38;5;241m=\u001b[39m \u001b[43mops\u001b[49m\u001b[38;5;241;43m.\u001b[39;49m\u001b[43malign_method_FRAME\u001b[49m\u001b[43m(\u001b[49m\u001b[38;5;28;43mself\u001b[39;49m\u001b[43m,\u001b[49m\u001b[43m \u001b[49m\u001b[43mother\u001b[49m\u001b[43m,\u001b[49m\u001b[43m \u001b[49m\u001b[43maxis\u001b[49m\u001b[43m,\u001b[49m\u001b[43m \u001b[49m\u001b[43mflex\u001b[49m\u001b[38;5;241;43m=\u001b[39;49m\u001b[38;5;28;43;01mTrue\u001b[39;49;00m\u001b[43m,\u001b[49m\u001b[43m \u001b[49m\u001b[43mlevel\u001b[49m\u001b[38;5;241;43m=\u001b[39;49m\u001b[38;5;28;43;01mNone\u001b[39;49;00m\u001b[43m)\u001b[49m\n\u001b[0;32m   6946\u001b[0m new_data \u001b[38;5;241m=\u001b[39m \u001b[38;5;28mself\u001b[39m\u001b[38;5;241m.\u001b[39m_dispatch_frame_op(other, op, axis\u001b[38;5;241m=\u001b[39maxis)\n\u001b[0;32m   6947\u001b[0m \u001b[38;5;28;01mreturn\u001b[39;00m \u001b[38;5;28mself\u001b[39m\u001b[38;5;241m.\u001b[39m_construct_result(new_data)\n",
      "File \u001b[1;32mC:\\Python310\\lib\\site-packages\\pandas\\core\\ops\\__init__.py:307\u001b[0m, in \u001b[0;36malign_method_FRAME\u001b[1;34m(left, right, axis, flex, level)\u001b[0m\n\u001b[0;32m    297\u001b[0m         \u001b[38;5;28;01mif\u001b[39;00m \u001b[38;5;129;01mnot\u001b[39;00m left\u001b[38;5;241m.\u001b[39maxes[axis]\u001b[38;5;241m.\u001b[39mequals(right\u001b[38;5;241m.\u001b[39mindex):\n\u001b[0;32m    298\u001b[0m             warnings\u001b[38;5;241m.\u001b[39mwarn(\n\u001b[0;32m    299\u001b[0m                 \u001b[38;5;124m\"\u001b[39m\u001b[38;5;124mAutomatic reindexing on DataFrame vs Series comparisons \u001b[39m\u001b[38;5;124m\"\u001b[39m\n\u001b[0;32m    300\u001b[0m                 \u001b[38;5;124m\"\u001b[39m\u001b[38;5;124mis deprecated and will raise ValueError in a future version. \u001b[39m\u001b[38;5;124m\"\u001b[39m\n\u001b[1;32m   (...)\u001b[0m\n\u001b[0;32m    304\u001b[0m                 stacklevel\u001b[38;5;241m=\u001b[39mfind_stack_level(),\n\u001b[0;32m    305\u001b[0m             )\n\u001b[1;32m--> 307\u001b[0m     left, right \u001b[38;5;241m=\u001b[39m \u001b[43mleft\u001b[49m\u001b[38;5;241;43m.\u001b[39;49m\u001b[43malign\u001b[49m\u001b[43m(\u001b[49m\n\u001b[0;32m    308\u001b[0m \u001b[43m        \u001b[49m\u001b[43mright\u001b[49m\u001b[43m,\u001b[49m\u001b[43m \u001b[49m\u001b[43mjoin\u001b[49m\u001b[38;5;241;43m=\u001b[39;49m\u001b[38;5;124;43m\"\u001b[39;49m\u001b[38;5;124;43mouter\u001b[39;49m\u001b[38;5;124;43m\"\u001b[39;49m\u001b[43m,\u001b[49m\u001b[43m \u001b[49m\u001b[43maxis\u001b[49m\u001b[38;5;241;43m=\u001b[39;49m\u001b[43maxis\u001b[49m\u001b[43m,\u001b[49m\u001b[43m \u001b[49m\u001b[43mlevel\u001b[49m\u001b[38;5;241;43m=\u001b[39;49m\u001b[43mlevel\u001b[49m\u001b[43m,\u001b[49m\u001b[43m \u001b[49m\u001b[43mcopy\u001b[49m\u001b[38;5;241;43m=\u001b[39;49m\u001b[38;5;28;43;01mFalse\u001b[39;49;00m\n\u001b[0;32m    309\u001b[0m \u001b[43m    \u001b[49m\u001b[43m)\u001b[49m\n\u001b[0;32m    310\u001b[0m     right \u001b[38;5;241m=\u001b[39m _maybe_align_series_as_frame(left, right, axis)\n\u001b[0;32m    312\u001b[0m \u001b[38;5;28;01mreturn\u001b[39;00m left, right\n",
      "File \u001b[1;32mC:\\Python310\\lib\\site-packages\\pandas\\core\\frame.py:4709\u001b[0m, in \u001b[0;36mDataFrame.align\u001b[1;34m(self, other, join, axis, level, copy, fill_value, method, limit, fill_axis, broadcast_axis)\u001b[0m\n\u001b[0;32m   4695\u001b[0m \u001b[38;5;129m@doc\u001b[39m(NDFrame\u001b[38;5;241m.\u001b[39malign, \u001b[38;5;241m*\u001b[39m\u001b[38;5;241m*\u001b[39m_shared_doc_kwargs)\n\u001b[0;32m   4696\u001b[0m \u001b[38;5;28;01mdef\u001b[39;00m \u001b[38;5;21malign\u001b[39m(\n\u001b[0;32m   4697\u001b[0m     \u001b[38;5;28mself\u001b[39m,\n\u001b[1;32m   (...)\u001b[0m\n\u001b[0;32m   4707\u001b[0m     broadcast_axis: Axis \u001b[38;5;241m|\u001b[39m \u001b[38;5;28;01mNone\u001b[39;00m \u001b[38;5;241m=\u001b[39m \u001b[38;5;28;01mNone\u001b[39;00m,\n\u001b[0;32m   4708\u001b[0m ) \u001b[38;5;241m-\u001b[39m\u001b[38;5;241m>\u001b[39m DataFrame:\n\u001b[1;32m-> 4709\u001b[0m     \u001b[38;5;28;01mreturn\u001b[39;00m \u001b[38;5;28;43msuper\u001b[39;49m\u001b[43m(\u001b[49m\u001b[43m)\u001b[49m\u001b[38;5;241;43m.\u001b[39;49m\u001b[43malign\u001b[49m\u001b[43m(\u001b[49m\n\u001b[0;32m   4710\u001b[0m \u001b[43m        \u001b[49m\u001b[43mother\u001b[49m\u001b[43m,\u001b[49m\n\u001b[0;32m   4711\u001b[0m \u001b[43m        \u001b[49m\u001b[43mjoin\u001b[49m\u001b[38;5;241;43m=\u001b[39;49m\u001b[43mjoin\u001b[49m\u001b[43m,\u001b[49m\n\u001b[0;32m   4712\u001b[0m \u001b[43m        \u001b[49m\u001b[43maxis\u001b[49m\u001b[38;5;241;43m=\u001b[39;49m\u001b[43maxis\u001b[49m\u001b[43m,\u001b[49m\n\u001b[0;32m   4713\u001b[0m \u001b[43m        \u001b[49m\u001b[43mlevel\u001b[49m\u001b[38;5;241;43m=\u001b[39;49m\u001b[43mlevel\u001b[49m\u001b[43m,\u001b[49m\n\u001b[0;32m   4714\u001b[0m \u001b[43m        \u001b[49m\u001b[43mcopy\u001b[49m\u001b[38;5;241;43m=\u001b[39;49m\u001b[43mcopy\u001b[49m\u001b[43m,\u001b[49m\n\u001b[0;32m   4715\u001b[0m \u001b[43m        \u001b[49m\u001b[43mfill_value\u001b[49m\u001b[38;5;241;43m=\u001b[39;49m\u001b[43mfill_value\u001b[49m\u001b[43m,\u001b[49m\n\u001b[0;32m   4716\u001b[0m \u001b[43m        \u001b[49m\u001b[43mmethod\u001b[49m\u001b[38;5;241;43m=\u001b[39;49m\u001b[43mmethod\u001b[49m\u001b[43m,\u001b[49m\n\u001b[0;32m   4717\u001b[0m \u001b[43m        \u001b[49m\u001b[43mlimit\u001b[49m\u001b[38;5;241;43m=\u001b[39;49m\u001b[43mlimit\u001b[49m\u001b[43m,\u001b[49m\n\u001b[0;32m   4718\u001b[0m \u001b[43m        \u001b[49m\u001b[43mfill_axis\u001b[49m\u001b[38;5;241;43m=\u001b[39;49m\u001b[43mfill_axis\u001b[49m\u001b[43m,\u001b[49m\n\u001b[0;32m   4719\u001b[0m \u001b[43m        \u001b[49m\u001b[43mbroadcast_axis\u001b[49m\u001b[38;5;241;43m=\u001b[39;49m\u001b[43mbroadcast_axis\u001b[49m\u001b[43m,\u001b[49m\n\u001b[0;32m   4720\u001b[0m \u001b[43m    \u001b[49m\u001b[43m)\u001b[49m\n",
      "File \u001b[1;32mC:\\Python310\\lib\\site-packages\\pandas\\core\\generic.py:8872\u001b[0m, in \u001b[0;36mNDFrame.align\u001b[1;34m(self, other, join, axis, level, copy, fill_value, method, limit, fill_axis, broadcast_axis)\u001b[0m\n\u001b[0;32m   8860\u001b[0m     \u001b[38;5;28;01mreturn\u001b[39;00m \u001b[38;5;28mself\u001b[39m\u001b[38;5;241m.\u001b[39m_align_frame(\n\u001b[0;32m   8861\u001b[0m         other,\n\u001b[0;32m   8862\u001b[0m         join\u001b[38;5;241m=\u001b[39mjoin,\n\u001b[1;32m   (...)\u001b[0m\n\u001b[0;32m   8869\u001b[0m         fill_axis\u001b[38;5;241m=\u001b[39mfill_axis,\n\u001b[0;32m   8870\u001b[0m     )\n\u001b[0;32m   8871\u001b[0m \u001b[38;5;28;01melif\u001b[39;00m \u001b[38;5;28misinstance\u001b[39m(other, ABCSeries):\n\u001b[1;32m-> 8872\u001b[0m     \u001b[38;5;28;01mreturn\u001b[39;00m \u001b[38;5;28;43mself\u001b[39;49m\u001b[38;5;241;43m.\u001b[39;49m\u001b[43m_align_series\u001b[49m\u001b[43m(\u001b[49m\n\u001b[0;32m   8873\u001b[0m \u001b[43m        \u001b[49m\u001b[43mother\u001b[49m\u001b[43m,\u001b[49m\n\u001b[0;32m   8874\u001b[0m \u001b[43m        \u001b[49m\u001b[43mjoin\u001b[49m\u001b[38;5;241;43m=\u001b[39;49m\u001b[43mjoin\u001b[49m\u001b[43m,\u001b[49m\n\u001b[0;32m   8875\u001b[0m \u001b[43m        \u001b[49m\u001b[43maxis\u001b[49m\u001b[38;5;241;43m=\u001b[39;49m\u001b[43maxis\u001b[49m\u001b[43m,\u001b[49m\n\u001b[0;32m   8876\u001b[0m \u001b[43m        \u001b[49m\u001b[43mlevel\u001b[49m\u001b[38;5;241;43m=\u001b[39;49m\u001b[43mlevel\u001b[49m\u001b[43m,\u001b[49m\n\u001b[0;32m   8877\u001b[0m \u001b[43m        \u001b[49m\u001b[43mcopy\u001b[49m\u001b[38;5;241;43m=\u001b[39;49m\u001b[43mcopy\u001b[49m\u001b[43m,\u001b[49m\n\u001b[0;32m   8878\u001b[0m \u001b[43m        \u001b[49m\u001b[43mfill_value\u001b[49m\u001b[38;5;241;43m=\u001b[39;49m\u001b[43mfill_value\u001b[49m\u001b[43m,\u001b[49m\n\u001b[0;32m   8879\u001b[0m \u001b[43m        \u001b[49m\u001b[43mmethod\u001b[49m\u001b[38;5;241;43m=\u001b[39;49m\u001b[43mmethod\u001b[49m\u001b[43m,\u001b[49m\n\u001b[0;32m   8880\u001b[0m \u001b[43m        \u001b[49m\u001b[43mlimit\u001b[49m\u001b[38;5;241;43m=\u001b[39;49m\u001b[43mlimit\u001b[49m\u001b[43m,\u001b[49m\n\u001b[0;32m   8881\u001b[0m \u001b[43m        \u001b[49m\u001b[43mfill_axis\u001b[49m\u001b[38;5;241;43m=\u001b[39;49m\u001b[43mfill_axis\u001b[49m\u001b[43m,\u001b[49m\n\u001b[0;32m   8882\u001b[0m \u001b[43m    \u001b[49m\u001b[43m)\u001b[49m\n\u001b[0;32m   8883\u001b[0m \u001b[38;5;28;01melse\u001b[39;00m:  \u001b[38;5;66;03m# pragma: no cover\u001b[39;00m\n\u001b[0;32m   8884\u001b[0m     \u001b[38;5;28;01mraise\u001b[39;00m \u001b[38;5;167;01mTypeError\u001b[39;00m(\u001b[38;5;124mf\u001b[39m\u001b[38;5;124m\"\u001b[39m\u001b[38;5;124munsupported type: \u001b[39m\u001b[38;5;132;01m{\u001b[39;00m\u001b[38;5;28mtype\u001b[39m(other)\u001b[38;5;132;01m}\u001b[39;00m\u001b[38;5;124m\"\u001b[39m)\n",
      "File \u001b[1;32mC:\\Python310\\lib\\site-packages\\pandas\\core\\generic.py:8989\u001b[0m, in \u001b[0;36mNDFrame._align_series\u001b[1;34m(self, other, join, axis, level, copy, fill_value, method, limit, fill_axis)\u001b[0m\n\u001b[0;32m   8987\u001b[0m lidx, ridx \u001b[38;5;241m=\u001b[39m \u001b[38;5;28;01mNone\u001b[39;00m, \u001b[38;5;28;01mNone\u001b[39;00m\n\u001b[0;32m   8988\u001b[0m \u001b[38;5;28;01mif\u001b[39;00m \u001b[38;5;129;01mnot\u001b[39;00m join_index\u001b[38;5;241m.\u001b[39mequals(other\u001b[38;5;241m.\u001b[39mindex):\n\u001b[1;32m-> 8989\u001b[0m     join_index, lidx, ridx \u001b[38;5;241m=\u001b[39m \u001b[43mjoin_index\u001b[49m\u001b[38;5;241;43m.\u001b[39;49m\u001b[43mjoin\u001b[49m\u001b[43m(\u001b[49m\n\u001b[0;32m   8990\u001b[0m \u001b[43m        \u001b[49m\u001b[43mother\u001b[49m\u001b[38;5;241;43m.\u001b[39;49m\u001b[43mindex\u001b[49m\u001b[43m,\u001b[49m\u001b[43m \u001b[49m\u001b[43mhow\u001b[49m\u001b[38;5;241;43m=\u001b[39;49m\u001b[43mjoin\u001b[49m\u001b[43m,\u001b[49m\u001b[43m \u001b[49m\u001b[43mlevel\u001b[49m\u001b[38;5;241;43m=\u001b[39;49m\u001b[43mlevel\u001b[49m\u001b[43m,\u001b[49m\u001b[43m \u001b[49m\u001b[43mreturn_indexers\u001b[49m\u001b[38;5;241;43m=\u001b[39;49m\u001b[38;5;28;43;01mTrue\u001b[39;49;00m\n\u001b[0;32m   8991\u001b[0m \u001b[43m    \u001b[49m\u001b[43m)\u001b[49m\n\u001b[0;32m   8993\u001b[0m \u001b[38;5;28;01mif\u001b[39;00m lidx \u001b[38;5;129;01mis\u001b[39;00m \u001b[38;5;129;01mnot\u001b[39;00m \u001b[38;5;28;01mNone\u001b[39;00m:\n\u001b[0;32m   8994\u001b[0m     bm_axis \u001b[38;5;241m=\u001b[39m \u001b[38;5;28mself\u001b[39m\u001b[38;5;241m.\u001b[39m_get_block_manager_axis(axis)\n",
      "File \u001b[1;32mC:\\Python310\\lib\\site-packages\\pandas\\core\\indexes\\base.py:216\u001b[0m, in \u001b[0;36m_maybe_return_indexers.<locals>.join\u001b[1;34m(self, other, how, level, return_indexers, sort)\u001b[0m\n\u001b[0;32m    207\u001b[0m \u001b[38;5;129m@functools\u001b[39m\u001b[38;5;241m.\u001b[39mwraps(meth)\n\u001b[0;32m    208\u001b[0m \u001b[38;5;28;01mdef\u001b[39;00m \u001b[38;5;21mjoin\u001b[39m(\n\u001b[0;32m    209\u001b[0m     \u001b[38;5;28mself\u001b[39m,\n\u001b[1;32m   (...)\u001b[0m\n\u001b[0;32m    214\u001b[0m     sort: \u001b[38;5;28mbool\u001b[39m \u001b[38;5;241m=\u001b[39m \u001b[38;5;28;01mFalse\u001b[39;00m,\n\u001b[0;32m    215\u001b[0m ):\n\u001b[1;32m--> 216\u001b[0m     join_index, lidx, ridx \u001b[38;5;241m=\u001b[39m \u001b[43mmeth\u001b[49m\u001b[43m(\u001b[49m\u001b[38;5;28;43mself\u001b[39;49m\u001b[43m,\u001b[49m\u001b[43m \u001b[49m\u001b[43mother\u001b[49m\u001b[43m,\u001b[49m\u001b[43m \u001b[49m\u001b[43mhow\u001b[49m\u001b[38;5;241;43m=\u001b[39;49m\u001b[43mhow\u001b[49m\u001b[43m,\u001b[49m\u001b[43m \u001b[49m\u001b[43mlevel\u001b[49m\u001b[38;5;241;43m=\u001b[39;49m\u001b[43mlevel\u001b[49m\u001b[43m,\u001b[49m\u001b[43m \u001b[49m\u001b[43msort\u001b[49m\u001b[38;5;241;43m=\u001b[39;49m\u001b[43msort\u001b[49m\u001b[43m)\u001b[49m\n\u001b[0;32m    217\u001b[0m     \u001b[38;5;28;01mif\u001b[39;00m \u001b[38;5;129;01mnot\u001b[39;00m return_indexers:\n\u001b[0;32m    218\u001b[0m         \u001b[38;5;28;01mreturn\u001b[39;00m join_index\n",
      "File \u001b[1;32mC:\\Python310\\lib\\site-packages\\pandas\\core\\indexes\\base.py:4396\u001b[0m, in \u001b[0;36mIndex.join\u001b[1;34m(self, other, how, level, return_indexers, sort)\u001b[0m\n\u001b[0;32m   4394\u001b[0m     this \u001b[38;5;241m=\u001b[39m \u001b[38;5;28mself\u001b[39m\u001b[38;5;241m.\u001b[39mastype(dtype, copy\u001b[38;5;241m=\u001b[39m\u001b[38;5;28;01mFalse\u001b[39;00m)\n\u001b[0;32m   4395\u001b[0m     other \u001b[38;5;241m=\u001b[39m other\u001b[38;5;241m.\u001b[39mastype(dtype, copy\u001b[38;5;241m=\u001b[39m\u001b[38;5;28;01mFalse\u001b[39;00m)\n\u001b[1;32m-> 4396\u001b[0m     \u001b[38;5;28;01mreturn\u001b[39;00m \u001b[43mthis\u001b[49m\u001b[38;5;241;43m.\u001b[39;49m\u001b[43mjoin\u001b[49m\u001b[43m(\u001b[49m\u001b[43mother\u001b[49m\u001b[43m,\u001b[49m\u001b[43m \u001b[49m\u001b[43mhow\u001b[49m\u001b[38;5;241;43m=\u001b[39;49m\u001b[43mhow\u001b[49m\u001b[43m,\u001b[49m\u001b[43m \u001b[49m\u001b[43mreturn_indexers\u001b[49m\u001b[38;5;241;43m=\u001b[39;49m\u001b[38;5;28;43;01mTrue\u001b[39;49;00m\u001b[43m)\u001b[49m\n\u001b[0;32m   4398\u001b[0m _validate_join_method(how)\n\u001b[0;32m   4400\u001b[0m \u001b[38;5;28;01mif\u001b[39;00m \u001b[38;5;129;01mnot\u001b[39;00m \u001b[38;5;28mself\u001b[39m\u001b[38;5;241m.\u001b[39mis_unique \u001b[38;5;129;01mand\u001b[39;00m \u001b[38;5;129;01mnot\u001b[39;00m other\u001b[38;5;241m.\u001b[39mis_unique:\n",
      "File \u001b[1;32mC:\\Python310\\lib\\site-packages\\pandas\\core\\indexes\\base.py:216\u001b[0m, in \u001b[0;36m_maybe_return_indexers.<locals>.join\u001b[1;34m(self, other, how, level, return_indexers, sort)\u001b[0m\n\u001b[0;32m    207\u001b[0m \u001b[38;5;129m@functools\u001b[39m\u001b[38;5;241m.\u001b[39mwraps(meth)\n\u001b[0;32m    208\u001b[0m \u001b[38;5;28;01mdef\u001b[39;00m \u001b[38;5;21mjoin\u001b[39m(\n\u001b[0;32m    209\u001b[0m     \u001b[38;5;28mself\u001b[39m,\n\u001b[1;32m   (...)\u001b[0m\n\u001b[0;32m    214\u001b[0m     sort: \u001b[38;5;28mbool\u001b[39m \u001b[38;5;241m=\u001b[39m \u001b[38;5;28;01mFalse\u001b[39;00m,\n\u001b[0;32m    215\u001b[0m ):\n\u001b[1;32m--> 216\u001b[0m     join_index, lidx, ridx \u001b[38;5;241m=\u001b[39m \u001b[43mmeth\u001b[49m\u001b[43m(\u001b[49m\u001b[38;5;28;43mself\u001b[39;49m\u001b[43m,\u001b[49m\u001b[43m \u001b[49m\u001b[43mother\u001b[49m\u001b[43m,\u001b[49m\u001b[43m \u001b[49m\u001b[43mhow\u001b[49m\u001b[38;5;241;43m=\u001b[39;49m\u001b[43mhow\u001b[49m\u001b[43m,\u001b[49m\u001b[43m \u001b[49m\u001b[43mlevel\u001b[49m\u001b[38;5;241;43m=\u001b[39;49m\u001b[43mlevel\u001b[49m\u001b[43m,\u001b[49m\u001b[43m \u001b[49m\u001b[43msort\u001b[49m\u001b[38;5;241;43m=\u001b[39;49m\u001b[43msort\u001b[49m\u001b[43m)\u001b[49m\n\u001b[0;32m    217\u001b[0m     \u001b[38;5;28;01mif\u001b[39;00m \u001b[38;5;129;01mnot\u001b[39;00m return_indexers:\n\u001b[0;32m    218\u001b[0m         \u001b[38;5;28;01mreturn\u001b[39;00m join_index\n",
      "File \u001b[1;32mC:\\Python310\\lib\\site-packages\\pandas\\core\\indexes\\base.py:4406\u001b[0m, in \u001b[0;36mIndex.join\u001b[1;34m(self, other, how, level, return_indexers, sort)\u001b[0m\n\u001b[0;32m   4403\u001b[0m \u001b[38;5;28;01mif\u001b[39;00m \u001b[38;5;28mself\u001b[39m\u001b[38;5;241m.\u001b[39mis_monotonic \u001b[38;5;129;01mand\u001b[39;00m other\u001b[38;5;241m.\u001b[39mis_monotonic:\n\u001b[0;32m   4404\u001b[0m     \u001b[38;5;28;01mif\u001b[39;00m \u001b[38;5;28mself\u001b[39m\u001b[38;5;241m.\u001b[39m_can_use_libjoin:\n\u001b[0;32m   4405\u001b[0m         \u001b[38;5;66;03m# otherwise we will fall through to _join_via_get_indexer\u001b[39;00m\n\u001b[1;32m-> 4406\u001b[0m         \u001b[38;5;28;01mreturn\u001b[39;00m \u001b[38;5;28;43mself\u001b[39;49m\u001b[38;5;241;43m.\u001b[39;49m\u001b[43m_join_monotonic\u001b[49m\u001b[43m(\u001b[49m\u001b[43mother\u001b[49m\u001b[43m,\u001b[49m\u001b[43m \u001b[49m\u001b[43mhow\u001b[49m\u001b[38;5;241;43m=\u001b[39;49m\u001b[43mhow\u001b[49m\u001b[43m)\u001b[49m\n\u001b[0;32m   4407\u001b[0m \u001b[38;5;28;01melse\u001b[39;00m:\n\u001b[0;32m   4408\u001b[0m     \u001b[38;5;28;01mreturn\u001b[39;00m \u001b[38;5;28mself\u001b[39m\u001b[38;5;241m.\u001b[39m_join_non_unique(other, how\u001b[38;5;241m=\u001b[39mhow)\n",
      "File \u001b[1;32mC:\\Python310\\lib\\site-packages\\pandas\\core\\indexes\\base.py:4754\u001b[0m, in \u001b[0;36mIndex._join_monotonic\u001b[1;34m(self, other, how)\u001b[0m\n\u001b[0;32m   4752\u001b[0m         join_array, lidx, ridx \u001b[38;5;241m=\u001b[39m \u001b[38;5;28mself\u001b[39m\u001b[38;5;241m.\u001b[39m_inner_indexer(other)\n\u001b[0;32m   4753\u001b[0m     \u001b[38;5;28;01melif\u001b[39;00m how \u001b[38;5;241m==\u001b[39m \u001b[38;5;124m\"\u001b[39m\u001b[38;5;124mouter\u001b[39m\u001b[38;5;124m\"\u001b[39m:\n\u001b[1;32m-> 4754\u001b[0m         join_array, lidx, ridx \u001b[38;5;241m=\u001b[39m \u001b[38;5;28;43mself\u001b[39;49m\u001b[38;5;241;43m.\u001b[39;49m\u001b[43m_outer_indexer\u001b[49m\u001b[43m(\u001b[49m\u001b[43mother\u001b[49m\u001b[43m)\u001b[49m\n\u001b[0;32m   4756\u001b[0m     join_index \u001b[38;5;241m=\u001b[39m \u001b[38;5;28mself\u001b[39m\u001b[38;5;241m.\u001b[39m_wrap_joined_index(join_array, other)\n\u001b[0;32m   4758\u001b[0m lidx \u001b[38;5;241m=\u001b[39m \u001b[38;5;28;01mNone\u001b[39;00m \u001b[38;5;28;01mif\u001b[39;00m lidx \u001b[38;5;129;01mis\u001b[39;00m \u001b[38;5;28;01mNone\u001b[39;00m \u001b[38;5;28;01melse\u001b[39;00m ensure_platform_int(lidx)\n",
      "File \u001b[1;32mC:\\Python310\\lib\\site-packages\\pandas\\core\\indexes\\base.py:358\u001b[0m, in \u001b[0;36mIndex._outer_indexer\u001b[1;34m(self, other)\u001b[0m\n\u001b[0;32m    356\u001b[0m sv \u001b[38;5;241m=\u001b[39m \u001b[38;5;28mself\u001b[39m\u001b[38;5;241m.\u001b[39m_get_engine_target()\n\u001b[0;32m    357\u001b[0m ov \u001b[38;5;241m=\u001b[39m other\u001b[38;5;241m.\u001b[39m_get_engine_target()\n\u001b[1;32m--> 358\u001b[0m joined_ndarray, lidx, ridx \u001b[38;5;241m=\u001b[39m \u001b[43mlibjoin\u001b[49m\u001b[38;5;241;43m.\u001b[39;49m\u001b[43mouter_join_indexer\u001b[49m\u001b[43m(\u001b[49m\u001b[43msv\u001b[49m\u001b[43m,\u001b[49m\u001b[43m \u001b[49m\u001b[43mov\u001b[49m\u001b[43m)\u001b[49m\n\u001b[0;32m    359\u001b[0m joined \u001b[38;5;241m=\u001b[39m \u001b[38;5;28mself\u001b[39m\u001b[38;5;241m.\u001b[39m_from_join_target(joined_ndarray)\n\u001b[0;32m    360\u001b[0m \u001b[38;5;28;01mreturn\u001b[39;00m joined, lidx, ridx\n",
      "File \u001b[1;32mC:\\Python310\\lib\\site-packages\\pandas\\_libs\\join.pyx:575\u001b[0m, in \u001b[0;36mpandas._libs.join.outer_join_indexer\u001b[1;34m()\u001b[0m\n",
      "\u001b[1;31mTypeError\u001b[0m: '<' not supported between instances of 'str' and 'int'"
     ]
    },
    {
     "data": {
      "image/png": "[encoded data removed]",
      "text/plain": [
       "<Figure size 576x396 with 1 Axes>"
      ]
     },
     "metadata": {},
     "output_type": "display_data"
    }
   ],
   "source": [
    "profile.to_file(\"report.html\")"
   ]
  },
  {
   "cell_type": "code",
   "execution_count": 42,
   "id": "67120eda",
   "metadata": {},
   "outputs": [
    {
     "name": "stderr",
     "output_type": "stream",
     "text": [
      "C:\\Users\\ADMIN\\AppData\\Local\\Temp\\ipykernel_4080\\433593245.py:1: FutureWarning: In a future version of pandas all arguments of DataFrame.drop except for the argument 'labels' will be keyword-only.\n",
      "  data = data.drop(data.loc[:,list((100*(data.isnull().sum()/len(data.index))>1))].columns, 1)\n"
     ]
    }
   ],
   "source": [
    "data = data.drop(data.loc[:,list((100*(data.isnull().sum()/len(data.index))>1))].columns, 1)"
   ]
  },
  {
   "cell_type": "code",
   "execution_count": 18,
   "id": "c80525eb",
   "metadata": {},
   "outputs": [],
   "source": [
    "data = data.dropna()"
   ]
  },
  {
   "cell_type": "code",
   "execution_count": 19,
   "id": "70c42ce9",
   "metadata": {},
   "outputs": [
    {
     "data": {
      "text/plain": [
       "'<table border=\"1\" class=\"dataframe\">\\n  <thead>\\n    <tr style=\"text-align: right;\">\\n      <th></th>\\n      <th>Adj Close</th>\\n      <th>pct</th>\\n      <th>pct_shifted</th>\\n      <th>MFV</th>\\n      <th>40 period ADX.</th>\\n      <th>AO</th>\\n      <th>UPPER</th>\\n      <th>LOWER</th>\\n      <th>40 period ATR</th>\\n      <th>Buy.</th>\\n      <th>Sell.</th>\\n      <th>Buy.</th>\\n      <th>Sell.</th>\\n      <th>BB_UPPER</th>\\n      <th>BB_MIDDLE</th>\\n      <th>BB_LOWER</th>\\n      <th>40 period BBWITH</th>\\n      <th>Balance Of Power</th>\\n      <th>40 period CCI</th>\\n      <th>CFI</th>\\n      <th>MFV</th>\\n      <th>Short.</th>\\n      <th>Long.</th>\\n      <th>CMO</th>\\n      <th>Coppock Curve</th>\\n      <th>40 period DEMA</th>\\n      <th>DI+</th>\\n      <th>DI-</th>\\n      <th>LOWER</th>\\n      <th>MIDDLE</th>\\n      <th>UPPER</th>\\n      <th>Bull.</th>\\n      <th>Bear.</th>\\n      <th>40 period Force Index</th>\\n      <th>40 period EMA</th>\\n      <th>40 period ER</th>\\n      <th>10 period EVSTC</th>\\n      <th>40 period EVWMA.</th>\\n      <th>MACD</th>\\n      <th>SIGNAL</th>\\n      <th>40 period FISH.</th>\\n      <th>40 period FRAMA.</th>\\n      <th>0</th>\\n      <th>40 period HMA.</th>\\n      <th>TENKAN</th>\\n      <th>KIJUN</th>\\n      <th>CHIKOU</th>\\n      <th>IFT_RSI</th>\\n      <th>40 period KAMA.</th>\\n      <th>KC_UPPER</th>\\n      <th>KC_LOWER</th>\\n      <th>KST</th>\\n      <th>MACD</th>\\n      <th>SIGNAL</th>\\n      <th>40 period MFI</th>\\n      <th>Mass Index</th>\\n      <th>BB_UPPER</th>\\n      <th>BB_MIDDLE</th>\\n      <th>BB_LOWER</th>\\n      <th>MOM</th>\\n      <th>MSD</th>\\n      <th>OBV</th>\\n      <th>%b</th>\\n      <th>pivot</th>\\n      <th>s1</th>\\n      <th>s2</th>\\n      <th>s3</th>\\n      <th>s4</th>\\n      <th>r1</th>\\n      <th>r2</th>\\n      <th>r3</th>\\n      <th>r4</th>\\n      <th>pivot</th>\\n      <th>s1</th>\\n      <th>s2</th>\\n      <th>s3</th>\\n      <th>s4</th>\\n      <th>r1</th>\\n      <th>r2</th>\\n      <th>r3</th>\\n      <th>r4</th>\\n      <th>PPO</th>\\n      <th>SIGNAL</th>\\n      <th>HISTO</th>\\n      <th>psar</th>\\n      <th>40 period PZO</th>\\n      <th>ROC</th>\\n      <th>40 period RSI</th>\\n      <th>0</th>\\n      <th>40 period SMA</th>\\n      <th>40 period SMM</th>\\n      <th>SMMA</th>\\n      <th>40 period SQZMI</th>\\n      <th>40 period SSMA</th>\\n      <th>10 period STC</th>\\n      <th>40 period STOCH %K</th>\\n      <th>14 period stochastic RSI.</th>\\n      <th>40 period TEMA</th>\\n      <th>TP</th>\\n      <th>TR</th>\\n      <th>40 period TRIX</th>\\n      <th>TSI</th>\\n      <th>0</th>\\n      <th>VBM</th>\\n      <th>VFI</th>\\n      <th>VIm</th>\\n      <th>VIp</th>\\n      <th>VPT</th>\\n      <th>VWAP.</th>\\n      <th>MACD</th>\\n      <th>SIGNAL</th>\\n      <th>VZO</th>\\n      <th>40 Williams %R</th>\\n      <th>40 period WMA.</th>\\n      <th>WOBV</th>\\n      <th>WT1.</th>\\n      <th>WT2.</th>\\n      <th>40 period ZLEMA</th>\\n    </tr>\\n  </thead>\\n  <tbody>\\n    <tr>\\n      <th>2019-09-10 11:30:00-04:00</th>\\n      <td>15.755000</td>\\n      <td>0.044415</td>\\n      <td>0.032402</td>\\n      <td>5205186.0</td>\\n      <td>68.968758</td>\\n      <td>-0.008131</td>\\n      <td>16.369497</td>\\n      <td>15.701878</td>\\n      <td>0.195088</td>\\n      <td>4.398691</td>\\n      <td>0.793796</td>\\n      <td>1.730690</td>\\n      <td>1.271185</td>\\n      <td>16.747633</td>\\n      <td>15.603617</td>\\n      <td>14.459600</td>\\n      <td>0.146635</td>\\n      <td>0.756556</td>\\n      <td>9.705352</td>\\n      <td>5367149.0</td>\\n      <td>1130083.750</td>\\n      <td>15.942988</td>\\n      <td>15.717011</td>\\n      <td>7.579710</td>\\n      <td>-2.626775</td>\\n      <td>16.035686</td>\\n      <td>21.472795</td>\\n      <td>41.931271</td>\\n      <td>15.42</td>\\n      <td>15.83</td>\\n      <td>16.24</td>\\n      <td>-0.052717</td>\\n      <td>-0.386467</td>\\n      <td>32760.531250</td>\\n      <td>15.766178</td>\\n      <td>0.151166</td>\\n      <td>0.0</td>\\n      <td>2.638917</td>\\n      <td>9.487490</td>\\n      <td>9.609426</td>\\n      <td>0.804309</td>\\n      <td>15.762475</td>\\n      <td>11.340622</td>\\n      <td>16.130764</td>\\n      <td>15.8225</td>\\n      <td>15.742488</td>\\n      <td>16.072500</td>\\n      <td>0.381788</td>\\n      <td>15.564969</td>\\n      <td>16.250837</td>\\n      <td>15.281518</td>\\n      <td>30.508026</td>\\n      <td>0.017351</td>\\n      <td>0.097361</td>\\n      <td>48.737263</td>\\n      <td>22.352707</td>\\n      <td>16.033775</td>\\n      <td>15.866280</td>\\n      <td>15.698786</td>\\n      <td>0.670000</td>\\n      <td>0.572008</td>\\n      <td>5488416.0</td>\\n      <td>0.566163</td>\\n      <td>15.550000</td>\\n      <td>15.425000</td>\\n      <td>15.345000</td>\\n      <td>15.220000</td>\\n      <td>15.095000</td>\\n      <td>15.630000</td>\\n      <td>15.755000</td>\\n      <td>15.835000</td>\\n      <td>15.915000</td>\\n      <td>15.550000</td>\\n      <td>15.471690</td>\\n      <td>15.42331</td>\\n      <td>15.345000</td>\\n      <td>15.266690</td>\\n      <td>15.628310</td>\\n      <td>15.676690</td>\\n      <td>15.755000</td>\\n      <td>15.833310</td>\\n      <td>0.109621</td>\\n      <td>0.615451</td>\\n      <td>-0.50583</td>\\n      <td>16.008942</td>\\n      <td>7.007593</td>\\n      <td>4.441499</td>\\n      <td>53.732929</td>\\n      <td>16.013601</td>\\n      <td>15.603617</td>\\n      <td>15.812363</td>\\n      <td>15.672118</td>\\n      <td>0.0</td>\\n      <td>15.672118</td>\\n      <td>0.0</td>\\n      <td>70.101143</td>\\n      <td>0.659600</td>\\n      <td>16.045843</td>\\n      <td>15.672916</td>\\n      <td>0.33375</td>\\n      <td>0.098158</td>\\n      <td>5.484761</td>\\n      <td>52.119106</td>\\n      <td>-85.191803</td>\\n      <td>2.139602</td>\\n      <td>0.941545</td>\\n      <td>0.953784</td>\\n      <td>-8353429.5</td>\\n      <td>15.538588</td>\\n      <td>-0.006669</td>\\n      <td>0.083123</td>\\n      <td>0.744645</td>\\n      <td>-29.898857</td>\\n      <td>15.838085</td>\\n      <td>3685750.5</td>\\n      <td>-22.710985</td>\\n      <td>-12.602813</td>\\n      <td>16.553490</td>\\n    </tr>\\n    <tr>\\n      <th>2019-09-10 12:30:00-04:00</th>\\n      <td>15.688475</td>\\n      <td>0.043637</td>\\n      <td>0.044415</td>\\n      <td>4668071.5</td>\\n      <td>62.428204</td>\\n      <td>-0.064616</td>\\n      <td>16.348114</td>\\n      <td>15.677645</td>\\n      <td>0.195963</td>\\n      <td>0.432415</td>\\n      <td>1.087915</td>\\n      <td>1.605794</td>\\n      <td>1.253554</td>\\n      <td>16.749155</td>\\n      <td>15.620016</td>\\n      <td>14.490877</td>\\n      <td>0.144576</td>\\n      <td>-0.306223</td>\\n      <td>13.271480</td>\\n      <td>5247827.0</td>\\n      <td>1111406.125</td>\\n      <td>15.953557</td>\\n      <td>15.706443</td>\\n      <td>5.262939</td>\\n      <td>-3.178008</td>\\n      <td>16.012880</td>\\n      <td>20.622183</td>\\n      <td>35.476665</td>\\n      <td>15.42</td>\\n      <td>15.83</td>\\n      <td>16.24</td>\\n      <td>0.001837</td>\\n      <td>-0.203163</td>\\n      <td>25857.162109</td>\\n      <td>15.761966</td>\\n      <td>0.147535</td>\\n      <td>0.0</td>\\n      <td>2.853127</td>\\n      <td>9.391764</td>\\n      <td>9.565893</td>\\n      <td>0.779138</td>\\n      <td>15.730838</td>\\n      <td>11.396691</td>\\n      <td>16.059824</td>\\n      <td>15.8125</td>\\n      <td>15.784363</td>\\n      <td>16.122524</td>\\n      <td>0.319407</td>\\n      <td>15.571957</td>\\n      <td>16.245125</td>\\n      <td>15.278806</td>\\n      <td>25.309586</td>\\n      <td>0.003845</td>\\n      <td>0.078657</td>\\n      <td>50.585991</td>\\n      <td>22.656059</td>\\n      <td>15.978151</td>\\n      <td>15.822627</td>\\n      <td>15.667104</td>\\n      <td>0.655974</td>\\n      <td>0.564570</td>\\n      <td>4077685.0</td>\\n      <td>0.530314</td>\\n      <td>15.672916</td>\\n      <td>15.547084</td>\\n      <td>15.339167</td>\\n      <td>15.213334</td>\\n      <td>15.087501</td>\\n      <td>15.880834</td>\\n      <td>16.006666</td>\\n      <td>16.214582</td>\\n      <td>16.422501</td>\\n      <td>15.672916</td>\\n      <td>15.545424</td>\\n      <td>15.46666</td>\\n      <td>15.339167</td>\\n      <td>15.211675</td>\\n      <td>15.800409</td>\\n      <td>15.879174</td>\\n      <td>16.006666</td>\\n      <td>16.134159</td>\\n      <td>0.024309</td>\\n      <td>0.497218</td>\\n      <td>-0.47291</td>\\n      <td>15.950047</td>\\n      <td>1.233413</td>\\n      <td>4.363708</td>\\n      <td>52.563293</td>\\n      <td>15.954242</td>\\n      <td>15.620016</td>\\n      <td>15.812363</td>\\n      <td>15.672712</td>\\n      <td>0.0</td>\\n      <td>15.672712</td>\\n      <td>0.0</td>\\n      <td>66.294197</td>\\n      <td>0.636908</td>\\n      <td>16.004896</td>\\n      <td>15.714492</td>\\n      <td>0.20500</td>\\n      <td>0.097299</td>\\n      <td>3.101221</td>\\n      <td>49.534428</td>\\n      <td>-83.721375</td>\\n      <td>3.038505</td>\\n      <td>0.938298</td>\\n      <td>0.980781</td>\\n      <td>-9217425.0</td>\\n      <td>15.541051</td>\\n      <td>-0.011323</td>\\n      <td>0.064234</td>\\n      <td>-2.806978</td>\\n      <td>-33.705803</td>\\n      <td>15.842224</td>\\n      <td>3591901.0</td>\\n      <td>-23.815447</td>\\n      <td>-19.073471</td>\\n      <td>16.464825</td>\\n    </tr>\\n  </tbody>\\n</table>'"
      ]
     },
     "execution_count": 19,
     "metadata": {},
     "output_type": "execute_result"
    }
   ],
   "source": [
    "data.head(2).to_html()"
   ]
  },
  {
   "cell_type": "code",
   "execution_count": 43,
   "id": "dc012ed0",
   "metadata": {},
   "outputs": [
    {
     "name": "stderr",
     "output_type": "stream",
     "text": [
      "A subdirectory or file data already exists.\n"
     ]
    }
   ],
   "source": [
    "!mkdir data\n",
    "data.to_csv(\"./data/data.csv\")"
   ]
  },
  {
   "cell_type": "code",
   "execution_count": 21,
   "id": "1510673e",
   "metadata": {},
   "outputs": [],
   "source": [
    "data_arr = data.to_numpy()"
   ]
  },
  {
   "cell_type": "code",
   "execution_count": 330,
   "id": "16c9c519",
   "metadata": {},
   "outputs": [
    {
     "name": "stdout",
     "output_type": "stream",
     "text": [
      "X shape:  (4980, 40, 116)\n",
      "y shape:  (4980,)\n"
     ]
    }
   ],
   "source": [
    "import numpy as np\n",
    "X = []\n",
    "y = []\n",
    "for i in range(0,len(data_arr)-window_size):\n",
    "    X.append(data_arr[i:i+window_size])\n",
    "    y.append(data_arr[i+window_size,0])\n",
    "X = np.array(X)\n",
    "y = np.array(y)\n",
    "print(\"X shape: \",X.shape)\n",
    "print(\"y shape: \",y.shape)"
   ]
  },
  {
   "cell_type": "code",
   "execution_count": 331,
   "id": "6da50e91",
   "metadata": {},
   "outputs": [],
   "source": [
    "from sklearn.model_selection import train_test_split\n",
    "X_train, X_test, y_train, y_test = train_test_split(X, y, test_size=0.1, random_state=42)"
   ]
  },
  {
   "cell_type": "code",
   "execution_count": 332,
   "id": "70e83856",
   "metadata": {},
   "outputs": [],
   "source": [
    "import tensorflow as tf \n",
    "from tensorflow import keras\n",
    "from tensorflow.keras.models import Sequential \n",
    "from tensorflow.keras.layers import Dense,Dropout,LSTM,Flatten"
   ]
  },
  {
   "cell_type": "code",
   "execution_count": 366,
   "id": "facb2e7f",
   "metadata": {},
   "outputs": [],
   "source": [
    "model = Sequential()"
   ]
  },
  {
   "cell_type": "code",
   "execution_count": 367,
   "id": "3aa8f492",
   "metadata": {},
   "outputs": [],
   "source": [
    "model.add(LSTM(64,input_shape=(X_train[0].shape),return_sequences=True))\n",
    "model.add(Dropout(.2))"
   ]
  },
  {
   "cell_type": "code",
   "execution_count": 368,
   "id": "0e00be76",
   "metadata": {},
   "outputs": [],
   "source": [
    "model.add(LSTM(32,return_sequences=True))\n",
    "model.add(Dropout(.2))\n",
    "model.add(LSTM(32,return_sequences=True))\n",
    "model.add(Dropout(.2))"
   ]
  },
  {
   "cell_type": "code",
   "execution_count": 369,
   "id": "e10f2576",
   "metadata": {},
   "outputs": [],
   "source": [
    "model.add(LSTM(32,return_sequences=True))\n",
    "model.add(Dropout(.2))"
   ]
  },
  {
   "cell_type": "code",
   "execution_count": 370,
   "id": "e7a9e160",
   "metadata": {},
   "outputs": [],
   "source": [
    "model.add(LSTM(32,return_sequences=False))\n",
    "model.add(Dropout(.2))"
   ]
  },
  {
   "cell_type": "code",
   "execution_count": 371,
   "id": "844811c8",
   "metadata": {},
   "outputs": [],
   "source": [
    "model.add(Dense(64,activation='relu'))\n",
    "model.add(Dense(1,activation='linear'))"
   ]
  },
  {
   "cell_type": "code",
   "execution_count": 372,
   "id": "f5c3e1b8",
   "metadata": {},
   "outputs": [],
   "source": [
    "from tensorflow.keras import backend as K \n",
    "def rmse(pred,real):\n",
    "    return K.sqrt(K.mean(K.square(pred - real))) \n",
    "model.compile(optimizer='rmsprop',loss='mse',metrics=['mae',rmse])"
   ]
  },
  {
   "cell_type": "code",
   "execution_count": 373,
   "id": "f726fec3",
   "metadata": {},
   "outputs": [],
   "source": [
    "X_train = X_train.astype(\"float64\")\n",
    "X_test = X_test.astype(\"float64\")"
   ]
  },
  {
   "cell_type": "code",
   "execution_count": 42,
   "id": "ba3bab52",
   "metadata": {},
   "outputs": [
    {
     "ename": "NameError",
     "evalue": "name 'model' is not defined",
     "output_type": "error",
     "traceback": [
      "\u001b[1;31m---------------------------------------------------------------------------\u001b[0m",
      "\u001b[1;31mNameError\u001b[0m                                 Traceback (most recent call last)",
      "Input \u001b[1;32mIn [42]\u001b[0m, in \u001b[0;36m<cell line: 1>\u001b[1;34m()\u001b[0m\n\u001b[1;32m----> 1\u001b[0m history \u001b[38;5;241m=\u001b[39m \u001b[43mmodel\u001b[49m\u001b[38;5;241m.\u001b[39mfit(X_train,y_train,epochs\u001b[38;5;241m=\u001b[39m\u001b[38;5;241m300\u001b[39m,batch_size\u001b[38;5;241m=\u001b[39m\u001b[38;5;241m128\u001b[39m,shuffle\u001b[38;5;241m=\u001b[39m\u001b[38;5;28;01mTrue\u001b[39;00m,use_multiprocessing\u001b[38;5;241m=\u001b[39m\u001b[38;5;28;01mTrue\u001b[39;00m,validation_data\u001b[38;5;241m=\u001b[39m(X_test,y_test))\n",
      "\u001b[1;31mNameError\u001b[0m: name 'model' is not defined"
     ]
    }
   ],
   "source": [
    "history = model.fit(X_train,y_train,epochs=300,batch_size=128,shuffle=True,use_multiprocessing=True,validation_data=(X_test,y_test))"
   ]
  },
  {
   "cell_type": "code",
   "execution_count": 375,
   "id": "f39e8f60",
   "metadata": {},
   "outputs": [
    {
     "data": {
      "text/html": [
       "<div>\n",
       "<style scoped>\n",
       "    .dataframe tbody tr th:only-of-type {\n",
       "        vertical-align: middle;\n",
       "    }\n",
       "\n",
       "    .dataframe tbody tr th {\n",
       "        vertical-align: top;\n",
       "    }\n",
       "\n",
       "    .dataframe thead th {\n",
       "        text-align: right;\n",
       "    }\n",
       "</style>\n",
       "<table border=\"1\" class=\"dataframe\">\n",
       "  <thead>\n",
       "    <tr style=\"text-align: right;\">\n",
       "      <th></th>\n",
       "      <th>loss</th>\n",
       "      <th>mae</th>\n",
       "      <th>rmse</th>\n",
       "      <th>val_loss</th>\n",
       "      <th>val_mae</th>\n",
       "      <th>val_rmse</th>\n",
       "    </tr>\n",
       "  </thead>\n",
       "  <tbody>\n",
       "    <tr>\n",
       "      <th>0</th>\n",
       "      <td>1694.047241</td>\n",
       "      <td>35.690754</td>\n",
       "      <td>40.462578</td>\n",
       "      <td>1184.966919</td>\n",
       "      <td>28.077749</td>\n",
       "      <td>34.355465</td>\n",
       "    </tr>\n",
       "    <tr>\n",
       "      <th>1</th>\n",
       "      <td>987.296509</td>\n",
       "      <td>24.784691</td>\n",
       "      <td>30.920349</td>\n",
       "      <td>662.854187</td>\n",
       "      <td>19.513645</td>\n",
       "      <td>25.675056</td>\n",
       "    </tr>\n",
       "  </tbody>\n",
       "</table>\n",
       "</div>"
      ],
      "text/plain": [
       "          loss        mae       rmse     val_loss    val_mae   val_rmse\n",
       "0  1694.047241  35.690754  40.462578  1184.966919  28.077749  34.355465\n",
       "1   987.296509  24.784691  30.920349   662.854187  19.513645  25.675056"
      ]
     },
     "execution_count": 375,
     "metadata": {},
     "output_type": "execute_result"
    }
   ],
   "source": [
    "metrics_df = pd.DataFrame(history.history)\n",
    "metrics_df.head(2)"
   ]
  },
  {
   "cell_type": "code",
   "execution_count": 376,
   "id": "ac210585",
   "metadata": {},
   "outputs": [
    {
     "data": {
      "text/plain": [
       "<AxesSubplot:>"
      ]
     },
     "execution_count": 376,
     "metadata": {},
     "output_type": "execute_result"
    },
    {
     "data": {
      "image/png": "[encoded data removed]",
      "text/plain": [
       "<Figure size 432x288 with 1 Axes>"
      ]
     },
     "metadata": {
      "needs_background": "light"
     },
     "output_type": "display_data"
    }
   ],
   "source": [
    "loss_df = pd.DataFrame({\n",
    "    \"loss\":history.history['loss'],\n",
    "    \"val_loss\":history.history['val_loss']\n",
    "})\n",
    "loss_df.plot()"
   ]
  },
  {
   "cell_type": "code",
   "execution_count": 377,
   "id": "5af656de",
   "metadata": {},
   "outputs": [
    {
     "data": {
      "text/plain": [
       "<AxesSubplot:>"
      ]
     },
     "execution_count": 377,
     "metadata": {},
     "output_type": "execute_result"
    },
    {
     "data": {
      "image/png": "[encoded data removed]",
      "text/plain": [
       "<Figure size 432x288 with 1 Axes>"
      ]
     },
     "metadata": {
      "needs_background": "light"
     },
     "output_type": "display_data"
    }
   ],
   "source": [
    "mae_df = pd.DataFrame({\n",
    "    \"mae\":history.history['mae'],\n",
    "    'val_mae':history.history['val_mae']\n",
    "})\n",
    "mae_df.plot()"
   ]
  },
  {
   "cell_type": "code",
   "execution_count": 378,
   "id": "8bd91b3e",
   "metadata": {},
   "outputs": [
    {
     "data": {
      "text/plain": [
       "<AxesSubplot:>"
      ]
     },
     "execution_count": 378,
     "metadata": {},
     "output_type": "execute_result"
    },
    {
     "data": {
      "image/png": "[encoded data removed]",
      "text/plain": [
       "<Figure size 432x288 with 1 Axes>"
      ]
     },
     "metadata": {
      "needs_background": "light"
     },
     "output_type": "display_data"
    }
   ],
   "source": [
    "rmse_df = pd.DataFrame({\n",
    "    \"rmse\":history.history['rmse'],\n",
    "    'val_rmse':history.history['val_rmse']\n",
    "})\n",
    "rmse_df.plot()"
   ]
  },
  {
   "cell_type": "code",
   "execution_count": 382,
   "id": "8bf0574b",
   "metadata": {},
   "outputs": [
    {
     "data": {
      "text/plain": [
       "<AxesSubplot:>"
      ]
     },
     "execution_count": 382,
     "metadata": {},
     "output_type": "execute_result"
    },
    {
     "data": {
      "image/png": "[encoded data removed]",
      "text/plain": [
       "<Figure size 432x288 with 1 Axes>"
      ]
     },
     "metadata": {
      "needs_background": "light"
     },
     "output_type": "display_data"
    }
   ],
   "source": [
    "test_df = pd.DataFrame({\n",
    "    \"real\":y_test,\n",
    "    \"predicted\":model.predict(X_test).reshape([-1]),\n",
    "})\n",
    "test_df.plot()"
   ]
  },
  {
   "cell_type": "code",
   "execution_count": 383,
   "id": "02aa3af0",
   "metadata": {},
   "outputs": [],
   "source": [
    "predicted = model.predict(X_test).reshape([-1])\n",
    "real = y_test"
   ]
  },
  {
   "cell_type": "code",
   "execution_count": 384,
   "id": "5a0acef3",
   "metadata": {},
   "outputs": [
    {
     "name": "stdout",
     "output_type": "stream",
     "text": [
      "16/16 [==============================] - 1s 33ms/step - loss: 5.9984 - mae: 1.8502 - rmse: 2.3658\n"
     ]
    },
    {
     "data": {
      "text/plain": [
       "[5.998382568359375, 1.8502483367919922, 2.365811347961426]"
      ]
     },
     "execution_count": 384,
     "metadata": {},
     "output_type": "execute_result"
    }
   ],
   "source": [
    "model.evaluate(X_test,y_test)"
   ]
  },
  {
   "cell_type": "code",
   "execution_count": 385,
   "id": "4a2eae33",
   "metadata": {},
   "outputs": [],
   "source": [
    "test_df['predicted_err'] = ((test_df['real'] - test_df['predicted']) / test_df['real'])"
   ]
  },
  {
   "cell_type": "code",
   "execution_count": 386,
   "id": "8e3a9878",
   "metadata": {},
   "outputs": [
    {
     "data": {
      "text/plain": [
       "-0.37403552036006393"
      ]
     },
     "execution_count": 386,
     "metadata": {},
     "output_type": "execute_result"
    }
   ],
   "source": [
    "test_df[test_df['predicted_err'] < 0 ]['predicted_err'].min()"
   ]
  },
  {
   "cell_type": "code",
   "execution_count": 387,
   "id": "6c78ece7",
   "metadata": {},
   "outputs": [
    {
     "data": {
      "text/plain": [
       "-0.00033125549456992573"
      ]
     },
     "execution_count": 387,
     "metadata": {},
     "output_type": "execute_result"
    }
   ],
   "source": [
    "test_df[test_df['predicted_err'] < 0 ]['predicted_err'].max()"
   ]
  },
  {
   "cell_type": "code",
   "execution_count": 388,
   "id": "803de6d9",
   "metadata": {},
   "outputs": [
    {
     "data": {
      "text/plain": [
       "count    311.000000\n",
       "mean      -0.070735\n",
       "std        0.056501\n",
       "min       -0.374036\n",
       "25%       -0.099368\n",
       "50%       -0.066133\n",
       "75%       -0.027562\n",
       "max       -0.000331\n",
       "Name: predicted_err, dtype: float64"
      ]
     },
     "execution_count": 388,
     "metadata": {},
     "output_type": "execute_result"
    }
   ],
   "source": [
    "test_df[test_df['predicted_err'] < 0 ]['predicted_err'].describe()"
   ]
  },
  {
   "cell_type": "code",
   "execution_count": 362,
   "id": "9e3ca271",
   "metadata": {},
   "outputs": [
    {
     "data": {
      "text/plain": [
       "0.6345381526104418"
      ]
     },
     "execution_count": 362,
     "metadata": {},
     "output_type": "execute_result"
    }
   ],
   "source": [
    "316.000000 / len(test_df)"
   ]
  },
  {
   "cell_type": "code",
   "execution_count": 389,
   "id": "2bde1e83",
   "metadata": {},
   "outputs": [
    {
     "data": {
      "text/html": [
       "<div>\n",
       "<style scoped>\n",
       "    .dataframe tbody tr th:only-of-type {\n",
       "        vertical-align: middle;\n",
       "    }\n",
       "\n",
       "    .dataframe tbody tr th {\n",
       "        vertical-align: top;\n",
       "    }\n",
       "\n",
       "    .dataframe thead th {\n",
       "        text-align: right;\n",
       "    }\n",
       "</style>\n",
       "<table border=\"1\" class=\"dataframe\">\n",
       "  <thead>\n",
       "    <tr style=\"text-align: right;\">\n",
       "      <th></th>\n",
       "      <th>real</th>\n",
       "      <th>predicted</th>\n",
       "      <th>predicted_err</th>\n",
       "    </tr>\n",
       "  </thead>\n",
       "  <tbody>\n",
       "    <tr>\n",
       "      <th>298</th>\n",
       "      <td>10.525</td>\n",
       "      <td>14.461723</td>\n",
       "      <td>-0.374036</td>\n",
       "    </tr>\n",
       "  </tbody>\n",
       "</table>\n",
       "</div>"
      ],
      "text/plain": [
       "       real  predicted  predicted_err\n",
       "298  10.525  14.461723      -0.374036"
      ]
     },
     "execution_count": 389,
     "metadata": {},
     "output_type": "execute_result"
    }
   ],
   "source": [
    "test_df[test_df['predicted_err'] == min(test_df['predicted_err'])]"
   ]
  },
  {
   "cell_type": "code",
   "execution_count": 390,
   "id": "5bdf97fb",
   "metadata": {},
   "outputs": [
    {
     "data": {
      "text/plain": [
       "10.524999618530273"
      ]
     },
     "execution_count": 390,
     "metadata": {},
     "output_type": "execute_result"
    }
   ],
   "source": [
    "y_test[298]"
   ]
  },
  {
   "cell_type": "code",
   "execution_count": 391,
   "id": "ed7f777f",
   "metadata": {},
   "outputs": [
    {
     "data": {
      "text/plain": [
       "52.354949951171875"
      ]
     },
     "execution_count": 391,
     "metadata": {},
     "output_type": "execute_result"
    }
   ],
   "source": [
    "y_test[297]"
   ]
  },
  {
   "cell_type": "code",
   "execution_count": null,
   "id": "bd7a5500",
   "metadata": {},
   "outputs": [],
   "source": []
  },
  {
   "cell_type": "code",
   "execution_count": null,
   "id": "128537b0",
   "metadata": {},
   "outputs": [],
   "source": []
  }
 ],
 "metadata": {
  "kernelspec": {
   "display_name": "Python 3 (ipykernel)",
   "language": "python",
   "name": "python3"
  },
  "language_info": {
   "codemirror_mode": {
    "name": "ipython",
    "version": 3
   },
   "file_extension": ".py",
   "mimetype": "text/x-python",
   "name": "python",
   "nbconvert_exporter": "python",
   "pygments_lexer": "ipython3",
   "version": "3.10.5"
  }
 },
 "nbformat": 4,
 "nbformat_minor": 5
}
