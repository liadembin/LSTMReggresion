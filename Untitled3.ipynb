{
 "cells": [
  {
   "cell_type": "code",
   "execution_count": 1,
   "id": "dd05d876",
   "metadata": {},
   "outputs": [],
   "source": [
    "import pandas as pd \n",
    "import numpy as np \n",
    "import tensorflow as tf \n",
    "from tensorflow import keras \n",
    "from tensorflow.keras.layers import GRU,LSTM,Dense,Flatten,Dropout\n",
    "from tensorflow.keras.models import Sequential\n",
    "from matplotlib import pyplot as plt \n",
    "from tensorflow.keras.optimizers import Adam,RMSprop"
   ]
  },
  {
   "cell_type": "code",
   "execution_count": 2,
   "id": "6f951e86",
   "metadata": {},
   "outputs": [],
   "source": [
    "data = pd.read_csv(\"./data/data.csv\")"
   ]
  },
  {
   "cell_type": "code",
   "execution_count": 3,
   "id": "9bd0a2c7",
   "metadata": {},
   "outputs": [
    {
     "data": {
      "text/html": [
       "<div>\n",
       "<style scoped>\n",
       "    .dataframe tbody tr th:only-of-type {\n",
       "        vertical-align: middle;\n",
       "    }\n",
       "\n",
       "    .dataframe tbody tr th {\n",
       "        vertical-align: top;\n",
       "    }\n",
       "\n",
       "    .dataframe thead th {\n",
       "        text-align: right;\n",
       "    }\n",
       "</style>\n",
       "<table border=\"1\" class=\"dataframe\">\n",
       "  <thead>\n",
       "    <tr style=\"text-align: right;\">\n",
       "      <th></th>\n",
       "      <th>Unnamed: 0</th>\n",
       "      <th>Adj Close</th>\n",
       "      <th>MFV</th>\n",
       "      <th>40 period ADX.</th>\n",
       "      <th>AO</th>\n",
       "      <th>UPPER</th>\n",
       "      <th>LOWER</th>\n",
       "      <th>40 period ATR</th>\n",
       "      <th>Buy.</th>\n",
       "      <th>Sell.</th>\n",
       "      <th>...</th>\n",
       "      <th>SIGNAL.3</th>\n",
       "      <th>VZO</th>\n",
       "      <th>40 Williams %R</th>\n",
       "      <th>40 period WMA.</th>\n",
       "      <th>WOBV</th>\n",
       "      <th>WT1.</th>\n",
       "      <th>WT2.</th>\n",
       "      <th>40 period ZLEMA</th>\n",
       "      <th>pct</th>\n",
       "      <th>pct_shifted</th>\n",
       "    </tr>\n",
       "  </thead>\n",
       "  <tbody>\n",
       "    <tr>\n",
       "      <th>0</th>\n",
       "      <td>2019-09-20 09:30:00-04:00</td>\n",
       "      <td>16.407499</td>\n",
       "      <td>2.116714e+07</td>\n",
       "      <td>14.309929</td>\n",
       "      <td>0.182759</td>\n",
       "      <td>16.689889</td>\n",
       "      <td>16.054189</td>\n",
       "      <td>0.153630</td>\n",
       "      <td>0.497433</td>\n",
       "      <td>1.605319</td>\n",
       "      <td>...</td>\n",
       "      <td>0.039537</td>\n",
       "      <td>12.117903</td>\n",
       "      <td>-33.487389</td>\n",
       "      <td>16.251470</td>\n",
       "      <td>9.670663e+06</td>\n",
       "      <td>20.127102</td>\n",
       "      <td>18.448995</td>\n",
       "      <td>16.353788</td>\n",
       "      <td>0.034847</td>\n",
       "      <td>0.027954</td>\n",
       "    </tr>\n",
       "    <tr>\n",
       "      <th>1</th>\n",
       "      <td>2019-09-20 10:30:00-04:00</td>\n",
       "      <td>16.260000</td>\n",
       "      <td>1.943094e+07</td>\n",
       "      <td>14.140038</td>\n",
       "      <td>0.171225</td>\n",
       "      <td>16.685534</td>\n",
       "      <td>16.049697</td>\n",
       "      <td>0.154255</td>\n",
       "      <td>0.114767</td>\n",
       "      <td>1.950409</td>\n",
       "      <td>...</td>\n",
       "      <td>0.041372</td>\n",
       "      <td>7.085278</td>\n",
       "      <td>-45.734591</td>\n",
       "      <td>16.251063</td>\n",
       "      <td>9.382564e+06</td>\n",
       "      <td>15.500417</td>\n",
       "      <td>18.108371</td>\n",
       "      <td>16.356737</td>\n",
       "      <td>0.031090</td>\n",
       "      <td>0.034847</td>\n",
       "    </tr>\n",
       "    <tr>\n",
       "      <th>2</th>\n",
       "      <td>2019-09-20 11:30:00-04:00</td>\n",
       "      <td>16.194000</td>\n",
       "      <td>1.931478e+07</td>\n",
       "      <td>14.107290</td>\n",
       "      <td>0.141156</td>\n",
       "      <td>16.674920</td>\n",
       "      <td>16.039176</td>\n",
       "      <td>0.155231</td>\n",
       "      <td>0.710949</td>\n",
       "      <td>0.801172</td>\n",
       "      <td>...</td>\n",
       "      <td>0.040254</td>\n",
       "      <td>2.478898</td>\n",
       "      <td>-51.990512</td>\n",
       "      <td>16.247949</td>\n",
       "      <td>9.259769e+06</td>\n",
       "      <td>6.009721</td>\n",
       "      <td>14.930795</td>\n",
       "      <td>16.351900</td>\n",
       "      <td>0.018428</td>\n",
       "      <td>0.031090</td>\n",
       "    </tr>\n",
       "  </tbody>\n",
       "</table>\n",
       "<p>3 rows × 119 columns</p>\n",
       "</div>"
      ],
      "text/plain": [
       "                  Unnamed: 0  Adj Close           MFV  40 period ADX.  \\\n",
       "0  2019-09-20 09:30:00-04:00  16.407499  2.116714e+07       14.309929   \n",
       "1  2019-09-20 10:30:00-04:00  16.260000  1.943094e+07       14.140038   \n",
       "2  2019-09-20 11:30:00-04:00  16.194000  1.931478e+07       14.107290   \n",
       "\n",
       "         AO      UPPER      LOWER  40 period ATR      Buy.     Sell.  ...  \\\n",
       "0  0.182759  16.689889  16.054189       0.153630  0.497433  1.605319  ...   \n",
       "1  0.171225  16.685534  16.049697       0.154255  0.114767  1.950409  ...   \n",
       "2  0.141156  16.674920  16.039176       0.155231  0.710949  0.801172  ...   \n",
       "\n",
       "   SIGNAL.3        VZO  40 Williams %R  40 period WMA.          WOBV  \\\n",
       "0  0.039537  12.117903      -33.487389       16.251470  9.670663e+06   \n",
       "1  0.041372   7.085278      -45.734591       16.251063  9.382564e+06   \n",
       "2  0.040254   2.478898      -51.990512       16.247949  9.259769e+06   \n",
       "\n",
       "        WT1.       WT2.  40 period ZLEMA       pct  pct_shifted  \n",
       "0  20.127102  18.448995        16.353788  0.034847     0.027954  \n",
       "1  15.500417  18.108371        16.356737  0.031090     0.034847  \n",
       "2   6.009721  14.930795        16.351900  0.018428     0.031090  \n",
       "\n",
       "[3 rows x 119 columns]"
      ]
     },
     "execution_count": 3,
     "metadata": {},
     "output_type": "execute_result"
    }
   ],
   "source": [
    "data.head(3)"
   ]
  },
  {
   "cell_type": "code",
   "execution_count": 5,
   "id": "f39a7af7",
   "metadata": {},
   "outputs": [],
   "source": [
    "from pandas_profiling import ProfileReport"
   ]
  },
  {
   "cell_type": "code",
   "execution_count": 6,
   "id": "64e503ed",
   "metadata": {},
   "outputs": [],
   "source": [
    "data = data.drop(\"Unnamed: 0\",axis=1)"
   ]
  },
  {
   "cell_type": "code",
   "execution_count": 7,
   "id": "ba7c1a53",
   "metadata": {},
   "outputs": [],
   "source": [
    "prof = ProfileReport(data,title=\"a2\")"
   ]
  },
  {
   "cell_type": "code",
   "execution_count": null,
   "id": "f7e843ab",
   "metadata": {},
   "outputs": [
    {
     "data": {
      "application/vnd.jupyter.widget-view+json": {
       "model_id": "5530a192ec5042f08f4707e1abb55b58",
       "version_major": 2,
       "version_minor": 0
      },
      "text/plain": [
       "Summarize dataset:   0%|          | 0/5 [00:00<?, ?it/s]"
      ]
     },
     "metadata": {},
     "output_type": "display_data"
    }
   ],
   "source": [
    "prof.to_file(\"profile.html\")"
   ]
  },
  {
   "cell_type": "code",
   "execution_count": 7,
   "id": "cbfa0b07",
   "metadata": {},
   "outputs": [
    {
     "data": {
      "text/plain": [
       "Index(['Unnamed: 0', 'Adj Close', 'MFV', '40 period ADX.', 'AO', 'UPPER',\n",
       "       'LOWER', '40 period ATR', 'Buy.', 'Sell.',\n",
       "       ...\n",
       "       'SIGNAL.3', 'VZO', '40 Williams %R', '40 period WMA.', 'WOBV', 'WT1.',\n",
       "       'WT2.', '40 period ZLEMA', 'pct', 'pct_shifted'],\n",
       "      dtype='object', length=119)"
      ]
     },
     "execution_count": 7,
     "metadata": {},
     "output_type": "execute_result"
    }
   ],
   "source": [
    "data.columns"
   ]
  },
  {
   "cell_type": "code",
   "execution_count": null,
   "id": "a8a31099",
   "metadata": {},
   "outputs": [],
   "source": []
  }
 ],
 "metadata": {
  "kernelspec": {
   "display_name": "Python 3 (ipykernel)",
   "language": "python",
   "name": "python3"
  },
  "language_info": {
   "codemirror_mode": {
    "name": "ipython",
    "version": 3
   },
   "file_extension": ".py",
   "mimetype": "text/x-python",
   "name": "python",
   "nbconvert_exporter": "python",
   "pygments_lexer": "ipython3",
   "version": "3.10.2"
  }
 },
 "nbformat": 4,
 "nbformat_minor": 5
}
